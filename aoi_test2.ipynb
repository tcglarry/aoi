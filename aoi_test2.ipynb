{
  "nbformat": 4,
  "nbformat_minor": 0,
  "metadata": {
    "colab": {
      "name": "aoi_test1.ipynb",
      "version": "0.3.2",
      "provenance": []
    },
    "kernelspec": {
      "display_name": "Python [default]",
      "language": "python",
      "name": "python3"
    }
  },
  "cells": [
    {
      "metadata": {
        "id": "eTZefcdQ7Uhj",
        "colab_type": "code",
        "colab": {
          "base_uri": "https://localhost:8080/",
          "height": 142
        },
        "outputId": "69df7128-727b-4725-b938-01fc5727f0f5"
      },
      "cell_type": "code",
      "source": [
        "# Install a Drive FUSE wrapper.\n",
        "# https://github.com/astrada/google-drive-ocamlfuse\n",
        "!apt-get install -y -qq software-properties-common python-software-properties module-init-tools\n",
        "!add-apt-repository -y ppa:alessandro-strada/ppa 2>&1 > /dev/null\n",
        "!apt-get update -qq 2>&1 > /dev/null\n",
        "!apt-get -y install -qq google-drive-ocamlfuse fuse\n",
        "\n"
      ],
      "execution_count": 0,
      "outputs": [
        {
          "output_type": "stream",
          "text": [
            "gpg: keybox '/tmp/tmpw8tp4oxl/pubring.gpg' created\n",
            "gpg: /tmp/tmpw8tp4oxl/trustdb.gpg: trustdb created\n",
            "gpg: key AD5F235DF639B041: public key \"Launchpad PPA for Alessandro Strada\" imported\n",
            "gpg: Total number processed: 1\n",
            "gpg:               imported: 1\n",
            "Warning: apt-key output should not be parsed (stdout is not a terminal)\n"
          ],
          "name": "stdout"
        }
      ]
    },
    {
      "metadata": {
        "id": "CnvY20n5A8s5",
        "colab_type": "code",
        "colab": {}
      },
      "cell_type": "code",
      "source": [
        "\n",
        "# Generate auth tokens for Colab\n",
        "from google.colab import auth\n",
        "auth.authenticate_user()\n",
        "\n"
      ],
      "execution_count": 0,
      "outputs": []
    },
    {
      "metadata": {
        "id": "gEeqC4Tq9J_f",
        "colab_type": "code",
        "colab": {}
      },
      "cell_type": "code",
      "source": [
        "# Generate creds for the Drive FUSE library.\n",
        "from oauth2client.client import GoogleCredentials\n",
        "creds = GoogleCredentials.get_application_default()\n",
        "import getpass\n",
        "!google-drive-ocamlfuse -headless -id={creds.client_id} -secret={creds.client_secret} < /dev/null 2>&1 | grep URL\n",
        "vcode = getpass.getpass()\n",
        "!echo {vcode} | google-drive-ocamlfuse -headless -id={creds.client_id} -secret={creds.client_secret}\n"
      ],
      "execution_count": 0,
      "outputs": []
    },
    {
      "metadata": {
        "id": "1s4R7-DvBEbi",
        "colab_type": "code",
        "colab": {}
      },
      "cell_type": "code",
      "source": [
        "\n",
        "# Create a directory and mount Google Drive using that directory.\n",
        "!mkdir -p My Drive\n",
        "!google-drive-ocamlfuse My Drive"
      ],
      "execution_count": 0,
      "outputs": []
    },
    {
      "metadata": {
        "id": "WuJpio3EBId1",
        "colab_type": "code",
        "colab": {}
      },
      "cell_type": "code",
      "source": [
        "!ls My Drive/\n"
      ],
      "execution_count": 0,
      "outputs": []
    },
    {
      "metadata": {
        "id": "NYyZFibSBIzR",
        "colab_type": "code",
        "colab": {}
      },
      "cell_type": "code",
      "source": [
        "# Create a file in Drive.\n",
        "!echo \"This newly created file will appear in your Drive file list.\" > My Drive/created.txt\n"
      ],
      "execution_count": 0,
      "outputs": []
    },
    {
      "metadata": {
        "id": "MB8dW2a286em",
        "colab_type": "code",
        "colab": {
          "base_uri": "https://localhost:8080/",
          "height": 34
        },
        "outputId": "cc236f9a-4cfd-42f7-dd8d-27f501ec5f57"
      },
      "cell_type": "code",
      "source": [
        "import cv2\n",
        "import numpy as np\n",
        "import matplotlib.pyplot as plt\n",
        "import keras.backend as K\n",
        "import tensorflow as tf\n",
        "import subprocess\n",
        "import os\n",
        "import pickle\n",
        "from keras.layers import Input, Conv2D, MaxPooling2D, merge, Lambda,UpSampling2D, concatenate\n",
        "from keras.models import Model\n",
        "import pandas as pd\n",
        "import sklearn \n",
        "from sklearn.preprocessing import OneHotEncoder\n",
        "from sklearn.model_selection import train_test_split"
      ],
      "execution_count": 2,
      "outputs": [
        {
          "output_type": "stream",
          "text": [
            "adc.json  datalab  sample_data\r\n"
          ],
          "name": "stdout"
        }
      ]
    },
    {
      "metadata": {
        "id": "cbTRq4A77Uil",
        "colab_type": "code",
        "colab": {}
      },
      "cell_type": "code",
      "source": [
        "train_img = os.listdir('train_images')"
      ],
      "execution_count": 0,
      "outputs": []
    },
    {
      "metadata": {
        "id": "gDyU7PPA7Uis",
        "colab_type": "code",
        "colab": {},
        "outputId": "da144cab-273e-4248-c785-8c52bc711e3a"
      },
      "cell_type": "code",
      "source": [
        "len(train_img)"
      ],
      "execution_count": 0,
      "outputs": [
        {
          "output_type": "execute_result",
          "data": {
            "text/plain": [
              "2528"
            ]
          },
          "metadata": {
            "tags": []
          },
          "execution_count": 3
        }
      ]
    },
    {
      "metadata": {
        "id": "ghdRekLj7UjO",
        "colab_type": "code",
        "colab": {},
        "outputId": "a59a8e9c-42ee-4b03-d7d8-b847c7bf78ed"
      },
      "cell_type": "code",
      "source": [
        "train_img[0]"
      ],
      "execution_count": 0,
      "outputs": [
        {
          "output_type": "execute_result",
          "data": {
            "text/plain": [
              "'train_01927.png'"
            ]
          },
          "metadata": {
            "tags": []
          },
          "execution_count": 4
        }
      ]
    },
    {
      "metadata": {
        "id": "ldHqqUPc7UjX",
        "colab_type": "code",
        "colab": {}
      },
      "cell_type": "code",
      "source": [
        "x = cv2.imread('train_images/'+train_img[0])"
      ],
      "execution_count": 0,
      "outputs": []
    },
    {
      "metadata": {
        "id": "TaoIUijT7Uje",
        "colab_type": "code",
        "colab": {},
        "outputId": "2c5bb69a-fc05-4d16-9907-f068ca14a4df"
      },
      "cell_type": "code",
      "source": [
        "print (x.shape)"
      ],
      "execution_count": 0,
      "outputs": [
        {
          "output_type": "stream",
          "text": [
            "(512, 512, 3)\n"
          ],
          "name": "stdout"
        }
      ]
    },
    {
      "metadata": {
        "id": "AP9oAKl-7Ujs",
        "colab_type": "code",
        "colab": {}
      },
      "cell_type": "code",
      "source": [
        "img_list=[]\n",
        "for i,img in enumerate(train_img):\n",
        "    x = cv2.imread('train_images/'+img, cv2.IMREAD_GRAYSCALE)\n",
        "    img_list.append(x)\n"
      ],
      "execution_count": 0,
      "outputs": []
    },
    {
      "metadata": {
        "id": "M2lEmEaJ7Uj8",
        "colab_type": "code",
        "colab": {},
        "outputId": "0ba7f244-b11e-41e0-f6ae-806d884c8a9d"
      },
      "cell_type": "code",
      "source": [
        "train_data = np.array(img_list)\n",
        "train_data =  train_data[:,:,:,np.newaxis]\n",
        "print (train_data.shape)"
      ],
      "execution_count": 0,
      "outputs": [
        {
          "output_type": "stream",
          "text": [
            "(2528, 512, 512, 1)\n"
          ],
          "name": "stdout"
        }
      ]
    },
    {
      "metadata": {
        "id": "tFoJ832K7Uka",
        "colab_type": "code",
        "colab": {},
        "outputId": "6ff99b56-1c97-420c-b916-42266b1425be"
      },
      "cell_type": "code",
      "source": [
        "df_y = pd.read_csv('train.csv')\n",
        "df_y['Label'].value_counts()"
      ],
      "execution_count": 0,
      "outputs": [
        {
          "output_type": "execute_result",
          "data": {
            "text/plain": [
              "0    674\n",
              "5    644\n",
              "1    492\n",
              "3    378\n",
              "4    240\n",
              "2    100\n",
              "Name: Label, dtype: int64"
            ]
          },
          "metadata": {
            "tags": []
          },
          "execution_count": 9
        }
      ]
    },
    {
      "metadata": {
        "id": "3I6ffRVQ7Ukq",
        "colab_type": "code",
        "colab": {}
      },
      "cell_type": "code",
      "source": [
        "train_y =  df_y['Label'].values"
      ],
      "execution_count": 0,
      "outputs": []
    },
    {
      "metadata": {
        "id": "SKHRQ7p07Uk4",
        "colab_type": "code",
        "colab": {},
        "outputId": "558a562c-5e29-4292-932b-f7b4c1e3fcc1"
      },
      "cell_type": "code",
      "source": [
        "onehot_encoder = OneHotEncoder(sparse=False)\n",
        "train_y = train_y.reshape(len(train_y), 1)\n",
        "print (train_y.shape)\n",
        "train_label = onehot_encoder.fit_transform(train_y)\n",
        "\n",
        "\n",
        "print ('beofre', train_label.shape)\n",
        "print (df_y['Label'][:10])\n",
        "print (train_label[:10,:])\n",
        "\n",
        "train_label = train_label[:,np.newaxis,np.newaxis,:]\n",
        "\n",
        "print ('after', train_label.shape)"
      ],
      "execution_count": 0,
      "outputs": [
        {
          "output_type": "stream",
          "text": [
            "(2528, 1)\n",
            "beofre (2528, 6)\n",
            "0    0\n",
            "1    1\n",
            "2    1\n",
            "3    5\n",
            "4    5\n",
            "5    5\n",
            "6    3\n",
            "7    0\n",
            "8    3\n",
            "9    5\n",
            "Name: Label, dtype: int64\n",
            "[[1. 0. 0. 0. 0. 0.]\n",
            " [0. 1. 0. 0. 0. 0.]\n",
            " [0. 1. 0. 0. 0. 0.]\n",
            " [0. 0. 0. 0. 0. 1.]\n",
            " [0. 0. 0. 0. 0. 1.]\n",
            " [0. 0. 0. 0. 0. 1.]\n",
            " [0. 0. 0. 1. 0. 0.]\n",
            " [1. 0. 0. 0. 0. 0.]\n",
            " [0. 0. 0. 1. 0. 0.]\n",
            " [0. 0. 0. 0. 0. 1.]]\n",
            "after (2528, 1, 1, 6)\n"
          ],
          "name": "stdout"
        }
      ]
    },
    {
      "metadata": {
        "id": "W9i3ayFS7UlZ",
        "colab_type": "code",
        "colab": {},
        "outputId": "42ea5ee4-908f-4e39-ef91-9a14e0165f8f"
      },
      "cell_type": "code",
      "source": [
        "train_x,val_x,train_y,val_y = train_test_split(train_data,train_label,test_size=0.2, shuffle=True)\n",
        "print (train_x.shape)\n",
        "print (train_y.shape)\n",
        "print (val_x.shape)\n",
        "print (val_y.shape)"
      ],
      "execution_count": 0,
      "outputs": [
        {
          "output_type": "stream",
          "text": [
            "(2022, 512, 512, 1)\n",
            "(2022, 1, 1, 6)\n",
            "(506, 512, 512, 1)\n",
            "(506, 1, 1, 6)\n"
          ],
          "name": "stdout"
        }
      ]
    },
    {
      "metadata": {
        "id": "DaUdVTER7Uls",
        "colab_type": "text"
      },
      "cell_type": "markdown",
      "source": [
        "IMAGE_LENTH = train_data [0]\n",
        "IMAGE_HEIGHT = train_data [1]\n",
        "IMAGE_WIDTH = train_data[2]\n",
        "IMAGE_CHANNEL = train_data[3]\n",
        "ch = 4"
      ]
    },
    {
      "metadata": {
        "id": "FbISQTGZ7Ulu",
        "colab_type": "code",
        "colab": {}
      },
      "cell_type": "code",
      "source": [
        "def conv_block(ch, activation= 'relu', padding='same'):       \n",
        "    return Conv2D(ch,(3,3),activation= activation, padding =padding )\n"
      ],
      "execution_count": 0,
      "outputs": []
    },
    {
      "metadata": {
        "id": "3Ow7HQ1r7Ul1",
        "colab_type": "code",
        "colab": {}
      },
      "cell_type": "code",
      "source": [
        "#def build_model_1(IMAGE_HEIGHT=IMAGE_HEIGHT,IMAGE_WIDTH=IMAGE_WIDTH,ch=ch):\n",
        "def build_model_1(ch=4, category=6):\n",
        "    #inputs = Input((IMAGE_HEIGHT,IMAGE_WIDTH,ch))\n",
        "    inputs = Input((512,512,1))\n",
        "    inputs_norms = Lambda(lambda x : x/127.5 -1.0)(inputs)\n",
        "    conv1 =  conv_block(ch)(inputs_norms)\n",
        "    conv1 = conv_block(ch)(conv1)\n",
        "    pool1 = MaxPooling2D(pool_size=(2,2))(conv1)\n",
        "    \n",
        "    conv2 =  conv_block(ch*2)(pool1)\n",
        "    conv2 = conv_block(ch*2)(conv2)\n",
        "    pool2 = MaxPooling2D(pool_size=(2,2))(conv2)\n",
        "    \n",
        "    conv3 =  conv_block(ch*4)(pool2)\n",
        "    conv3 = conv_block(ch*4)(conv3)\n",
        "    pool3 = MaxPooling2D(pool_size=(2,2))(conv3)\n",
        "    \n",
        "    \n",
        "    conv4 =  conv_block(ch*8)(pool3)\n",
        "    conv4 = conv_block(ch*8)(conv4)\n",
        "    pool4 = MaxPooling2D(pool_size=(2,2))(conv4)\n",
        "    \n",
        "    conv5 =  conv_block(ch*16)(pool4)\n",
        "    conv5 = conv_block(ch*16)(conv5)\n",
        "\n",
        "    \n",
        "    up6 = concatenate([UpSampling2D(size=(2,2))(conv5), conv4], axis=3)\n",
        "    conv6 = conv_block(ch*8)(up6)\n",
        "    conv6 = conv_block(ch*8)(conv6)\n",
        "    \n",
        "    up7 = concatenate ([UpSampling2D(size=(2,2))(conv6), conv3],  axis=3)\n",
        "    conv7 = conv_block(ch*4)(up7)\n",
        "    conv7 = conv_block(ch*4)(conv7)\n",
        "    \n",
        "    up8 = concatenate([UpSampling2D(size=(2,2))(conv7), conv2], axis=3)\n",
        "    conv8 = conv_block(ch*2)(up8)\n",
        "    conv8 = conv_block(ch*2)(conv8)\n",
        "    \n",
        "    up9 = concatenate([UpSampling2D(size=(2,2))(conv8), conv1],  axis=3)\n",
        "    conv9 = conv_block(ch)(up9)\n",
        "    conv9 = conv_block(ch)(conv9)\n",
        "    \n",
        "    \n",
        "    \n",
        "    conv10 = Conv2D(1,(1,1))(conv9)\n",
        "    \n",
        "    #model = Model(inputs= inputs, outputs = pool4)\n",
        "\n",
        "    conv_11 =  conv_block(ch)(conv10)\n",
        "    conv_11 = conv_block(ch)(conv_11)\n",
        "    pool_11 = MaxPooling2D(pool_size=(2,2))(conv_11)\n",
        "\n",
        "    conv_12 =  conv_block(ch*2)(pool_11)\n",
        "    conv_12 = conv_block(ch*2)(conv_12)\n",
        "    pool_12 = MaxPooling2D(pool_size=(2,2))(conv_12)\n",
        "\n",
        "    conv_13 =  conv_block(ch*4)(pool_12)\n",
        "    conv_13 = conv_block(ch*4)(conv_13)\n",
        "    pool_13 = MaxPooling2D(pool_size=(2,2))(conv_13)\n",
        "\n",
        "\n",
        "    conv_14 =  conv_block(ch*8)(pool_13)\n",
        "    conv_14 = conv_block(ch*8)(conv_14)\n",
        "    pool_14 = MaxPooling2D(pool_size=(2,2))(conv_14)\n",
        "\n",
        "    conv_15 =  conv_block(ch*16)(pool_14)\n",
        "    conv_15 = conv_block(ch*16)(conv_15)\n",
        "    pool_15 = MaxPooling2D(pool_size=(2,2))(conv_15)\n",
        "\n",
        "    conv_16 =  conv_block(ch*16)(pool_15)\n",
        "    conv_16 = conv_block(ch*16)(conv_16)\n",
        "    pool_16 = MaxPooling2D(pool_size=(2,2))(conv_16)\n",
        "\n",
        "    conv_17 =  conv_block(ch*16)(pool_16)\n",
        "    conv_17 = conv_block(ch*16)(conv_17)\n",
        "    pool_17 = MaxPooling2D(pool_size=(2,2))(conv_17)\n",
        "\n",
        "    conv_18 =  conv_block(ch*16)(pool_17)\n",
        "    conv_18 = conv_block(ch*16)(conv_18)\n",
        "    pool_18 = MaxPooling2D(pool_size=(2,2))(conv_18)\n",
        "\n",
        "    conv_19 =  conv_block(ch*8)(pool_18)\n",
        "    conv_19 = conv_block(ch*8)(conv_19)\n",
        "    pool_19 = MaxPooling2D(pool_size=(2,2), padding='valid')(conv_19)\n",
        "\n",
        "\n",
        "    conv_20 = Conv2D(category,(1,1),activation='softmax')(pool_19)\n",
        "\n",
        "  \n",
        "    \n",
        "  \n",
        "    model = Model(inputs= inputs, outputs=conv_20)\n",
        "    \n",
        "    return model\n",
        "    \n",
        "    "
      ],
      "execution_count": 0,
      "outputs": []
    },
    {
      "metadata": {
        "id": "vRP_4DH17UmR",
        "colab_type": "text"
      },
      "cell_type": "markdown",
      "source": [
        "def build_model_2(build_model_1):\n",
        "    #inputs = Input((IMAGE_HEIGHT,IMAGE_WIDTH,ch))\n",
        "    conv = build_model_1()\n",
        "    conv1 =  conv_block(ch)(conv)\n",
        "    conv1 = conv_block(ch)(conv1)\n",
        "    pool1 = MaxPooling2D(pool_size=(2,2))(conv1)\n",
        "    \n",
        "    conv2 =  conv_block(ch*2)(pool1)\n",
        "    conv2 = conv_block(ch*2)(conv2)\n",
        "    pool2 = MaxPooling2D(pool_size=(2,2))(conv2)\n",
        "    \n",
        "    conv3 =  conv_block(ch*4)(pool2)\n",
        "    conv3 = conv_block(ch*4)(conv3)\n",
        "    pool3 = MaxPooling2D(pool_size=(2,2))(conv3)\n",
        "    \n",
        "    \n",
        "    conv4 =  conv_block(ch*8)(pool3)\n",
        "    conv4 = conv_block(ch*8)(conv4)\n",
        "    pool4 = MaxPooling2D(pool_size=(2,2))(conv4)\n",
        "    \n",
        "    conv5 =  conv_block(ch*16)(pool4)\n",
        "    conv5 = conv_block(ch*16)(conv5)\n",
        "    pool5 = MaxPooling2D(pool_size=(2,2))(conv5)\n",
        "\n",
        "    conv6 =  conv_block(ch*16)(pool5)\n",
        "    conv6 = conv_block(ch*16)(conv6)\n",
        "    pool6 = MaxPooling2D(pool_size=(2,2))(conv6)\n",
        "    \n",
        "    conv7 =  conv_block(ch*16)(pool6)\n",
        "    conv7 = conv_block(ch*16)(conv7)\n",
        "    pool7 = MaxPooling2D(pool_size=(2,2))(conv7)\n",
        "    \n",
        "    conv8 =  conv_block(ch*16)(pool7)\n",
        "    conv8 = conv_block(ch*16)(conv8)\n",
        "    pool8 = MaxPooling2D(pool_size=(2,2))(conv8)\n",
        "    \n",
        "    conv9 =  conv_block(ch*8)(pool8)\n",
        "    conv9 = conv_block(ch*8)(conv9)\n",
        "    pool9 = MaxPooling2D(pool_size=(2,2), padding='valid')(conv9)\n",
        "    \n",
        "\n",
        "    conv10 = Conv2D(5,(1,1),activation='softmax')(pool9)\n",
        "    \n",
        "    \n",
        "    return conv10"
      ]
    },
    {
      "metadata": {
        "id": "zPjlWpAY7UmU",
        "colab_type": "code",
        "colab": {},
        "outputId": "71f01d82-7593-46db-a425-df69f9e45bfa"
      },
      "cell_type": "code",
      "source": [
        "model = build_model_1()\n",
        "model.summary()"
      ],
      "execution_count": 0,
      "outputs": [
        {
          "output_type": "stream",
          "text": [
            "__________________________________________________________________________________________________\n",
            "Layer (type)                    Output Shape         Param #     Connected to                     \n",
            "==================================================================================================\n",
            "input_2 (InputLayer)            (None, 512, 512, 1)  0                                            \n",
            "__________________________________________________________________________________________________\n",
            "lambda_2 (Lambda)               (None, 512, 512, 1)  0           input_2[0][0]                    \n",
            "__________________________________________________________________________________________________\n",
            "conv2d_39 (Conv2D)              (None, 512, 512, 4)  40          lambda_2[0][0]                   \n",
            "__________________________________________________________________________________________________\n",
            "conv2d_40 (Conv2D)              (None, 512, 512, 4)  148         conv2d_39[0][0]                  \n",
            "__________________________________________________________________________________________________\n",
            "max_pooling2d_14 (MaxPooling2D) (None, 256, 256, 4)  0           conv2d_40[0][0]                  \n",
            "__________________________________________________________________________________________________\n",
            "conv2d_41 (Conv2D)              (None, 256, 256, 8)  296         max_pooling2d_14[0][0]           \n",
            "__________________________________________________________________________________________________\n",
            "conv2d_42 (Conv2D)              (None, 256, 256, 8)  584         conv2d_41[0][0]                  \n",
            "__________________________________________________________________________________________________\n",
            "max_pooling2d_15 (MaxPooling2D) (None, 128, 128, 8)  0           conv2d_42[0][0]                  \n",
            "__________________________________________________________________________________________________\n",
            "conv2d_43 (Conv2D)              (None, 128, 128, 16) 1168        max_pooling2d_15[0][0]           \n",
            "__________________________________________________________________________________________________\n",
            "conv2d_44 (Conv2D)              (None, 128, 128, 16) 2320        conv2d_43[0][0]                  \n",
            "__________________________________________________________________________________________________\n",
            "max_pooling2d_16 (MaxPooling2D) (None, 64, 64, 16)   0           conv2d_44[0][0]                  \n",
            "__________________________________________________________________________________________________\n",
            "conv2d_45 (Conv2D)              (None, 64, 64, 32)   4640        max_pooling2d_16[0][0]           \n",
            "__________________________________________________________________________________________________\n",
            "conv2d_46 (Conv2D)              (None, 64, 64, 32)   9248        conv2d_45[0][0]                  \n",
            "__________________________________________________________________________________________________\n",
            "max_pooling2d_17 (MaxPooling2D) (None, 32, 32, 32)   0           conv2d_46[0][0]                  \n",
            "__________________________________________________________________________________________________\n",
            "conv2d_47 (Conv2D)              (None, 32, 32, 64)   18496       max_pooling2d_17[0][0]           \n",
            "__________________________________________________________________________________________________\n",
            "conv2d_48 (Conv2D)              (None, 32, 32, 64)   36928       conv2d_47[0][0]                  \n",
            "__________________________________________________________________________________________________\n",
            "up_sampling2d_5 (UpSampling2D)  (None, 64, 64, 64)   0           conv2d_48[0][0]                  \n",
            "__________________________________________________________________________________________________\n",
            "concatenate_5 (Concatenate)     (None, 64, 64, 96)   0           up_sampling2d_5[0][0]            \n",
            "                                                                 conv2d_46[0][0]                  \n",
            "__________________________________________________________________________________________________\n",
            "conv2d_49 (Conv2D)              (None, 64, 64, 32)   27680       concatenate_5[0][0]              \n",
            "__________________________________________________________________________________________________\n",
            "conv2d_50 (Conv2D)              (None, 64, 64, 32)   9248        conv2d_49[0][0]                  \n",
            "__________________________________________________________________________________________________\n",
            "up_sampling2d_6 (UpSampling2D)  (None, 128, 128, 32) 0           conv2d_50[0][0]                  \n",
            "__________________________________________________________________________________________________\n",
            "concatenate_6 (Concatenate)     (None, 128, 128, 48) 0           up_sampling2d_6[0][0]            \n",
            "                                                                 conv2d_44[0][0]                  \n",
            "__________________________________________________________________________________________________\n",
            "conv2d_51 (Conv2D)              (None, 128, 128, 16) 6928        concatenate_6[0][0]              \n",
            "__________________________________________________________________________________________________\n",
            "conv2d_52 (Conv2D)              (None, 128, 128, 16) 2320        conv2d_51[0][0]                  \n",
            "__________________________________________________________________________________________________\n",
            "up_sampling2d_7 (UpSampling2D)  (None, 256, 256, 16) 0           conv2d_52[0][0]                  \n",
            "__________________________________________________________________________________________________\n",
            "concatenate_7 (Concatenate)     (None, 256, 256, 24) 0           up_sampling2d_7[0][0]            \n",
            "                                                                 conv2d_42[0][0]                  \n",
            "__________________________________________________________________________________________________\n",
            "conv2d_53 (Conv2D)              (None, 256, 256, 8)  1736        concatenate_7[0][0]              \n",
            "__________________________________________________________________________________________________\n",
            "conv2d_54 (Conv2D)              (None, 256, 256, 8)  584         conv2d_53[0][0]                  \n",
            "__________________________________________________________________________________________________\n",
            "up_sampling2d_8 (UpSampling2D)  (None, 512, 512, 8)  0           conv2d_54[0][0]                  \n",
            "__________________________________________________________________________________________________\n",
            "concatenate_8 (Concatenate)     (None, 512, 512, 12) 0           up_sampling2d_8[0][0]            \n",
            "                                                                 conv2d_40[0][0]                  \n",
            "__________________________________________________________________________________________________\n",
            "conv2d_55 (Conv2D)              (None, 512, 512, 4)  436         concatenate_8[0][0]              \n",
            "__________________________________________________________________________________________________\n",
            "conv2d_56 (Conv2D)              (None, 512, 512, 4)  148         conv2d_55[0][0]                  \n",
            "__________________________________________________________________________________________________\n",
            "conv2d_57 (Conv2D)              (None, 512, 512, 1)  5           conv2d_56[0][0]                  \n",
            "__________________________________________________________________________________________________\n",
            "conv2d_58 (Conv2D)              (None, 512, 512, 4)  40          conv2d_57[0][0]                  \n",
            "__________________________________________________________________________________________________\n",
            "conv2d_59 (Conv2D)              (None, 512, 512, 4)  148         conv2d_58[0][0]                  \n",
            "__________________________________________________________________________________________________\n",
            "max_pooling2d_18 (MaxPooling2D) (None, 256, 256, 4)  0           conv2d_59[0][0]                  \n",
            "__________________________________________________________________________________________________\n",
            "conv2d_60 (Conv2D)              (None, 256, 256, 8)  296         max_pooling2d_18[0][0]           \n",
            "__________________________________________________________________________________________________\n",
            "conv2d_61 (Conv2D)              (None, 256, 256, 8)  584         conv2d_60[0][0]                  \n",
            "__________________________________________________________________________________________________\n",
            "max_pooling2d_19 (MaxPooling2D) (None, 128, 128, 8)  0           conv2d_61[0][0]                  \n",
            "__________________________________________________________________________________________________\n",
            "conv2d_62 (Conv2D)              (None, 128, 128, 16) 1168        max_pooling2d_19[0][0]           \n",
            "__________________________________________________________________________________________________\n",
            "conv2d_63 (Conv2D)              (None, 128, 128, 16) 2320        conv2d_62[0][0]                  \n",
            "__________________________________________________________________________________________________\n",
            "max_pooling2d_20 (MaxPooling2D) (None, 64, 64, 16)   0           conv2d_63[0][0]                  \n",
            "__________________________________________________________________________________________________\n",
            "conv2d_64 (Conv2D)              (None, 64, 64, 32)   4640        max_pooling2d_20[0][0]           \n",
            "__________________________________________________________________________________________________\n",
            "conv2d_65 (Conv2D)              (None, 64, 64, 32)   9248        conv2d_64[0][0]                  \n",
            "__________________________________________________________________________________________________\n",
            "max_pooling2d_21 (MaxPooling2D) (None, 32, 32, 32)   0           conv2d_65[0][0]                  \n",
            "__________________________________________________________________________________________________\n",
            "conv2d_66 (Conv2D)              (None, 32, 32, 64)   18496       max_pooling2d_21[0][0]           \n",
            "__________________________________________________________________________________________________\n",
            "conv2d_67 (Conv2D)              (None, 32, 32, 64)   36928       conv2d_66[0][0]                  \n",
            "__________________________________________________________________________________________________\n",
            "max_pooling2d_22 (MaxPooling2D) (None, 16, 16, 64)   0           conv2d_67[0][0]                  \n",
            "__________________________________________________________________________________________________\n",
            "conv2d_68 (Conv2D)              (None, 16, 16, 64)   36928       max_pooling2d_22[0][0]           \n",
            "__________________________________________________________________________________________________\n",
            "conv2d_69 (Conv2D)              (None, 16, 16, 64)   36928       conv2d_68[0][0]                  \n",
            "__________________________________________________________________________________________________\n",
            "max_pooling2d_23 (MaxPooling2D) (None, 8, 8, 64)     0           conv2d_69[0][0]                  \n",
            "__________________________________________________________________________________________________\n",
            "conv2d_70 (Conv2D)              (None, 8, 8, 64)     36928       max_pooling2d_23[0][0]           \n",
            "__________________________________________________________________________________________________\n",
            "conv2d_71 (Conv2D)              (None, 8, 8, 64)     36928       conv2d_70[0][0]                  \n",
            "__________________________________________________________________________________________________\n",
            "max_pooling2d_24 (MaxPooling2D) (None, 4, 4, 64)     0           conv2d_71[0][0]                  \n",
            "__________________________________________________________________________________________________\n",
            "conv2d_72 (Conv2D)              (None, 4, 4, 64)     36928       max_pooling2d_24[0][0]           \n",
            "__________________________________________________________________________________________________\n",
            "conv2d_73 (Conv2D)              (None, 4, 4, 64)     36928       conv2d_72[0][0]                  \n",
            "__________________________________________________________________________________________________\n",
            "max_pooling2d_25 (MaxPooling2D) (None, 2, 2, 64)     0           conv2d_73[0][0]                  \n",
            "__________________________________________________________________________________________________\n",
            "conv2d_74 (Conv2D)              (None, 2, 2, 32)     18464       max_pooling2d_25[0][0]           \n",
            "__________________________________________________________________________________________________\n",
            "conv2d_75 (Conv2D)              (None, 2, 2, 32)     9248        conv2d_74[0][0]                  \n",
            "__________________________________________________________________________________________________\n",
            "max_pooling2d_26 (MaxPooling2D) (None, 1, 1, 32)     0           conv2d_75[0][0]                  \n",
            "__________________________________________________________________________________________________\n",
            "conv2d_76 (Conv2D)              (None, 1, 1, 6)      198         max_pooling2d_26[0][0]           \n",
            "==================================================================================================\n",
            "Total params: 446,299\n",
            "Trainable params: 446,299\n",
            "Non-trainable params: 0\n",
            "__________________________________________________________________________________________________\n"
          ],
          "name": "stdout"
        }
      ]
    },
    {
      "metadata": {
        "id": "95MZZQtB7Umu",
        "colab_type": "code",
        "colab": {}
      },
      "cell_type": "code",
      "source": [
        "model.compile (optimizer='Adam', loss = 'categorical_crossentropy')"
      ],
      "execution_count": 0,
      "outputs": []
    },
    {
      "metadata": {
        "id": "jlcLx0lr7Umz",
        "colab_type": "code",
        "colab": {},
        "outputId": "eb80d953-2132-40a4-dca4-da2a5b704cbf"
      },
      "cell_type": "code",
      "source": [
        "model.fit(x=train_x, y=train_y, batch_size=8, epochs=100, verbose=1, validation_split=0.2,  shuffle=True)"
      ],
      "execution_count": 0,
      "outputs": [
        {
          "output_type": "stream",
          "text": [
            "Train on 1617 samples, validate on 405 samples\n",
            "Epoch 1/100\n",
            "1617/1617 [==============================] - 3098s 2s/step - loss: 1.6698 - val_loss: 1.6784\n",
            "Epoch 2/100\n",
            "1616/1617 [============================>.] - ETA: 1s - loss: 1.6578"
          ],
          "name": "stdout"
        }
      ]
    },
    {
      "metadata": {
        "id": "E2Ee_CTr7UnJ",
        "colab_type": "code",
        "colab": {}
      },
      "cell_type": "code",
      "source": [
        "\n",
        "    "
      ],
      "execution_count": 0,
      "outputs": []
    },
    {
      "metadata": {
        "id": "fpdHCcPd7Unl",
        "colab_type": "text"
      },
      "cell_type": "markdown",
      "source": [
        "with open('train_data.pickle', 'wb') as f:\n",
        "    pickle.dump(train_data, f)"
      ]
    },
    {
      "metadata": {
        "id": "grt_7hv47Unm",
        "colab_type": "text"
      },
      "cell_type": "markdown",
      "source": [
        "with open('train_data.pickle', 'rb') as f:\n",
        "    train_data = pickle.load(f)\n",
        "\n",
        "print (train_data.shape)    \n"
      ]
    },
    {
      "metadata": {
        "id": "eP7X-itF7Uno",
        "colab_type": "code",
        "colab": {}
      },
      "cell_type": "code",
      "source": [
        ""
      ],
      "execution_count": 0,
      "outputs": []
    },
    {
      "metadata": {
        "id": "u2tesm0K7Un4",
        "colab_type": "code",
        "colab": {}
      },
      "cell_type": "code",
      "source": [
        ""
      ],
      "execution_count": 0,
      "outputs": []
    }
  ]
}