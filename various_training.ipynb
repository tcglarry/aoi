{
  "nbformat": 4,
  "nbformat_minor": 0,
  "metadata": {
    "colab": {
      "name": "various_training.ipynb",
      "version": "0.3.2",
      "provenance": [],
      "collapsed_sections": [],
      "include_colab_link": true
    },
    "kernelspec": {
      "display_name": "Python [default]",
      "language": "python",
      "name": "python3"
    },
    "accelerator": "GPU"
  },
  "cells": [
    {
      "cell_type": "markdown",
      "metadata": {
        "id": "view-in-github",
        "colab_type": "text"
      },
      "source": [
        "[View in Colaboratory](https://colab.research.google.com/github/tcglarry/aoi/blob/master/various_training.ipynb)"
      ]
    },
    {
      "metadata": {
        "id": "-VVqSDpUKamG",
        "colab_type": "code",
        "colab": {}
      },
      "cell_type": "code",
      "source": [
        ""
      ],
      "execution_count": 0,
      "outputs": []
    },
    {
      "metadata": {
        "id": "JP-J92Wh3977",
        "colab_type": "code",
        "colab": {
          "base_uri": "https://localhost:8080/",
          "height": 119
        },
        "outputId": "9da7438b-4c7f-4304-c848-912ce5acc68b"
      },
      "cell_type": "code",
      "source": [
        "# Install a Drive FUSE wrapper.\n",
        "# https://github.com/astrada/google-drive-ocamlfuse\n",
        "!apt-get install -y -qq software-properties-common python-software-properties module-init-tools\n",
        "!add-apt-repository -y ppa:alessandro-strada/ppa 2>&1 > /dev/null\n",
        "!apt-get update -qq 2>&1 > /dev/null\n",
        "!apt-get -y install -qq google-drive-ocamlfuse fuse"
      ],
      "execution_count": 1,
      "outputs": [
        {
          "output_type": "stream",
          "text": [
            "gpg: keybox '/tmp/tmpma9g0pad/pubring.gpg' created\n",
            "gpg: /tmp/tmpma9g0pad/trustdb.gpg: trustdb created\n",
            "gpg: key AD5F235DF639B041: public key \"Launchpad PPA for Alessandro Strada\" imported\n",
            "gpg: Total number processed: 1\n",
            "gpg:               imported: 1\n",
            "Warning: apt-key output should not be parsed (stdout is not a terminal)\n"
          ],
          "name": "stdout"
        }
      ]
    },
    {
      "metadata": {
        "id": "L3uvWPGk3-RR",
        "colab_type": "code",
        "colab": {}
      },
      "cell_type": "code",
      "source": [
        "# Generate auth tokens for Colab\n",
        "from google.colab import auth\n",
        "auth.authenticate_user()"
      ],
      "execution_count": 0,
      "outputs": []
    },
    {
      "metadata": {
        "id": "r7BNchFr3-jM",
        "colab_type": "code",
        "colab": {}
      },
      "cell_type": "code",
      "source": [
        "# Generate creds for the Drive FUSE library.\n",
        "from oauth2client.client import GoogleCredentials\n",
        "creds = GoogleCredentials.get_application_default()\n",
        "import getpass\n",
        "!google-drive-ocamlfuse -headless -id={creds.client_id} -secret={creds.client_secret} < /dev/null 2>&1 | grep URL\n",
        "vcode = getpass.getpass()\n",
        "!echo {vcode} | google-drive-ocamlfuse -headless -id={creds.client_id} -secret={creds.client_secret}"
      ],
      "execution_count": 0,
      "outputs": []
    },
    {
      "metadata": {
        "id": "UacDwvvo3-3M",
        "colab_type": "code",
        "colab": {
          "base_uri": "https://localhost:8080/",
          "height": 119
        },
        "outputId": "33dbae85-d6f6-49f1-8963-8bf615e2a9c8"
      },
      "cell_type": "code",
      "source": [
        "!mkdir -p drive\n",
        "!google-drive-ocamlfuse drive\n",
        "!ls drive"
      ],
      "execution_count": 4,
      "outputs": [
        {
          "output_type": "stream",
          "text": [
            "fuse: mountpoint is not empty\r\n",
            "fuse: if you are sure this is safe, use the 'nonempty' mount option\n",
            "aoi_aoi_test1.ipynb  Sample upload.txt\n",
            "aoi_test\t     TAHU PowerPoint Template.pdf\n",
            "Colab Notebooks      TAHU PowerPoint Template - 柱狀圖 1.ods\n",
            "PiXNet\t\t     test for excel\n"
          ],
          "name": "stdout"
        }
      ]
    },
    {
      "metadata": {
        "id": "flOlWFz17IRS",
        "colab_type": "code",
        "colab": {}
      },
      "cell_type": "code",
      "source": [
        "!cp drive/aoi_test/train.csv ."
      ],
      "execution_count": 0,
      "outputs": []
    },
    {
      "metadata": {
        "id": "1RFtPLNO32Fc",
        "colab_type": "code",
        "colab": {
          "base_uri": "https://localhost:8080/",
          "height": 34
        },
        "outputId": "3a06f463-8ec3-4e9e-d86c-bb068c330080"
      },
      "cell_type": "code",
      "source": [
        "from keras.applications.inception_v3 import InceptionV3\n",
        "from keras.applications.densenet import DenseNet121\n",
        "from keras.preprocessing import image\n",
        "\n",
        "from keras.layers import Dense, GlobalAveragePooling2D\n",
        "\n",
        "\n",
        "import cv2\n",
        "import numpy as np\n",
        "import matplotlib.pyplot as plt\n",
        "import keras.backend as K\n",
        "import tensorflow as tf\n",
        "import subprocess\n",
        "import os\n",
        "import pickle\n",
        "from keras.layers import Input, Conv2D, MaxPooling2D, merge, Lambda,UpSampling2D, concatenate, Reshape, Dropout,Cropping2D\n",
        "from keras.models import Model, load_model\n",
        "import pandas as pd\n",
        "import sklearn \n",
        "from sklearn.preprocessing import OneHotEncoder\n",
        "from sklearn.model_selection import train_test_split\n",
        "from keras.callbacks import ModelCheckpoint,EarlyStopping\n",
        "from keras.callbacks import Callback\n",
        "from keras.applications.mobilenet import MobileNet"
      ],
      "execution_count": 2,
      "outputs": [
        {
          "output_type": "stream",
          "text": [
            "Using TensorFlow backend.\n"
          ],
          "name": "stderr"
        }
      ]
    },
    {
      "metadata": {
        "id": "JrKfEZEq3wpf",
        "colab_type": "code",
        "colab": {}
      },
      "cell_type": "code",
      "source": [
        "\n"
      ],
      "execution_count": 0,
      "outputs": []
    },
    {
      "metadata": {
        "id": "eSJ7LqCJMATT",
        "colab_type": "code",
        "colab": {}
      },
      "cell_type": "code",
      "source": [
        "model = 'inceptionresnet.npy'\n",
        "src = 'drive/aoi_test/'\n",
        "#src=''"
      ],
      "execution_count": 0,
      "outputs": []
    },
    {
      "metadata": {
        "id": "13PLIoefUD1T",
        "colab_type": "code",
        "colab": {}
      },
      "cell_type": "code",
      "source": [
        "\n"
      ],
      "execution_count": 0,
      "outputs": []
    },
    {
      "metadata": {
        "id": "qcYVau44KamW",
        "colab_type": "code",
        "colab": {
          "base_uri": "https://localhost:8080/",
          "height": 51
        },
        "outputId": "38e0f7c2-02b8-47aa-8f47-62ff4ef47b05"
      },
      "cell_type": "code",
      "source": [
        "train_data = np.load(src+model)\n",
        "print (train_data.shape)\n",
        "#train_data =  train_data[:,:,:,np.newaxis]\n",
        "print (train_data.shape)"
      ],
      "execution_count": 4,
      "outputs": [
        {
          "output_type": "stream",
          "text": [
            "(2528, 14, 14, 1536)\n",
            "(2528, 14, 14, 1536)\n"
          ],
          "name": "stdout"
        }
      ]
    },
    {
      "metadata": {
        "id": "3HFXvsHaMas5",
        "colab_type": "code",
        "colab": {
          "base_uri": "https://localhost:8080/",
          "height": 34
        },
        "outputId": "3c4c6ce1-e26a-4c0a-9f37-4f9d9eecba55"
      },
      "cell_type": "code",
      "source": [
        "print ('here')"
      ],
      "execution_count": 5,
      "outputs": [
        {
          "output_type": "stream",
          "text": [
            "here\n"
          ],
          "name": "stdout"
        }
      ]
    },
    {
      "metadata": {
        "id": "dColgcfbKamb",
        "colab_type": "code",
        "colab": {
          "base_uri": "https://localhost:8080/",
          "height": 187
        },
        "outputId": "26139656-f468-4aec-a9e3-d1f9eb4c5d10"
      },
      "cell_type": "code",
      "source": [
        "df_y = pd.read_csv('train.csv')\n",
        "print (df_y['Label'].value_counts())\n",
        "train_y =  df_y['Label'].values\n",
        "\n",
        "onehot_encoder = OneHotEncoder(sparse=False)\n",
        "train_y = train_y.reshape(len(train_y), 1)\n",
        "print (train_y.shape)\n",
        "train_label = onehot_encoder.fit_transform(train_y)\n",
        "\n",
        "\n",
        "print ('beofre', train_label.shape)\n",
        "#print (df_y['Label'][:10])\n",
        "#print (train_label[:10,:])\n",
        "\n",
        "train_label = train_label[:,np.newaxis,np.newaxis,:]\n",
        "\n",
        "print ('after', train_label.shape)\n"
      ],
      "execution_count": 7,
      "outputs": [
        {
          "output_type": "stream",
          "text": [
            "0    674\n",
            "5    644\n",
            "1    492\n",
            "3    378\n",
            "4    240\n",
            "2    100\n",
            "Name: Label, dtype: int64\n",
            "(2528, 1)\n",
            "beofre (2528, 6)\n",
            "after (2528, 1, 1, 6)\n"
          ],
          "name": "stdout"
        }
      ]
    },
    {
      "metadata": {
        "id": "4u4e5RX8Kamg",
        "colab_type": "code",
        "colab": {
          "base_uri": "https://localhost:8080/",
          "height": 68
        },
        "outputId": "feb772d2-4487-467a-dc04-cf028df2cac6"
      },
      "cell_type": "code",
      "source": [
        "size = (14,14,1536)\n",
        "\n",
        "inputs = Input(shape=(size))\n",
        "x = Conv2D(64,(1,1), activation='relu', padding='same')(inputs)\n",
        "x = Conv2D(64,(3,3), activation='relu', padding='valid')(x)\n",
        "x = MaxPooling2D(pool_size=(2,2))(x)\n",
        "x = Conv2D(128,(3,3), activation='relu', padding='valid')(x)\n",
        "print (x.get_shape())\n",
        "x = MaxPooling2D(pool_size=(2,2))(x)\n",
        "print (x.get_shape())\n",
        "\n",
        "x = Conv2D(128,(2,2), activation='relu', padding='valid')(x)\n",
        "\n",
        "x = Dense (64, activation='relu')(x)\n",
        "x = Dropout(0.3)(x)\n",
        "predictions = Dense (6,activation='softmax')(x)\n",
        "print ('final',x.get_shape())"
      ],
      "execution_count": 8,
      "outputs": [
        {
          "output_type": "stream",
          "text": [
            "(?, 4, 4, 128)\n",
            "(?, 2, 2, 128)\n",
            "final (?, 1, 1, 64)\n"
          ],
          "name": "stdout"
        }
      ]
    },
    {
      "metadata": {
        "id": "DiJtsombKamq",
        "colab_type": "code",
        "colab": {
          "base_uri": "https://localhost:8080/",
          "height": 476
        },
        "outputId": "50b3daca-b773-4fe5-d34a-2b9cb30e55bc"
      },
      "cell_type": "code",
      "source": [
        "# this is the model we will train\n",
        "model = Model(inputs=inputs, outputs=predictions)\n",
        "model.summary()"
      ],
      "execution_count": 9,
      "outputs": [
        {
          "output_type": "stream",
          "text": [
            "_________________________________________________________________\n",
            "Layer (type)                 Output Shape              Param #   \n",
            "=================================================================\n",
            "input_1 (InputLayer)         (None, 14, 14, 1536)      0         \n",
            "_________________________________________________________________\n",
            "conv2d_1 (Conv2D)            (None, 14, 14, 64)        98368     \n",
            "_________________________________________________________________\n",
            "conv2d_2 (Conv2D)            (None, 12, 12, 64)        36928     \n",
            "_________________________________________________________________\n",
            "max_pooling2d_1 (MaxPooling2 (None, 6, 6, 64)          0         \n",
            "_________________________________________________________________\n",
            "conv2d_3 (Conv2D)            (None, 4, 4, 128)         73856     \n",
            "_________________________________________________________________\n",
            "max_pooling2d_2 (MaxPooling2 (None, 2, 2, 128)         0         \n",
            "_________________________________________________________________\n",
            "conv2d_4 (Conv2D)            (None, 1, 1, 128)         65664     \n",
            "_________________________________________________________________\n",
            "dense_1 (Dense)              (None, 1, 1, 64)          8256      \n",
            "_________________________________________________________________\n",
            "dropout_1 (Dropout)          (None, 1, 1, 64)          0         \n",
            "_________________________________________________________________\n",
            "dense_2 (Dense)              (None, 1, 1, 6)           390       \n",
            "=================================================================\n",
            "Total params: 283,462\n",
            "Trainable params: 283,462\n",
            "Non-trainable params: 0\n",
            "_________________________________________________________________\n"
          ],
          "name": "stdout"
        }
      ]
    },
    {
      "metadata": {
        "id": "T5LVr_5rKam0",
        "colab_type": "code",
        "colab": {}
      },
      "cell_type": "code",
      "source": [
        "# compile the model (should be done *after* setting layers to non-trainable)\n",
        "model.compile(optimizer='Nadam', loss='categorical_crossentropy',metrics=['accuracy'])\n",
        "\n",
        "#output_layers = ['predictions']\n",
        "#model.metrics_tensors += output_layers\n"
      ],
      "execution_count": 0,
      "outputs": []
    },
    {
      "metadata": {
        "id": "-QYET8R8vDFP",
        "colab_type": "code",
        "colab": {}
      },
      "cell_type": "code",
      "source": [
        ""
      ],
      "execution_count": 0,
      "outputs": []
    },
    {
      "metadata": {
        "id": "Rs0vw6rMZuEe",
        "colab_type": "code",
        "colab": {}
      },
      "cell_type": "code",
      "source": [
        "# train the model on the new data for a few epochs\n",
        "use_model = False\n",
        "\n",
        "if use_model:\n",
        "    \n",
        "    if os.path.isfile(src+'inceptionresnet_various_1.h5'):\n",
        "\n",
        "      model = load_model(src+'inceptionresnet_various_1.h5')\n",
        "      print ('model laoded')\n",
        "    else:\n",
        "      print ('model not exist')\n"
      ],
      "execution_count": 0,
      "outputs": []
    },
    {
      "metadata": {
        "id": "R3z9MlbVuzsI",
        "colab_type": "code",
        "colab": {}
      },
      "cell_type": "code",
      "source": [
        ""
      ],
      "execution_count": 0,
      "outputs": []
    },
    {
      "metadata": {
        "id": "GrkjPOP_u6_O",
        "colab_type": "code",
        "colab": {}
      },
      "cell_type": "code",
      "source": [
        ""
      ],
      "execution_count": 0,
      "outputs": []
    },
    {
      "metadata": {
        "id": "oiM0Gv4QKam4",
        "colab_type": "code",
        "colab": {
          "base_uri": "https://localhost:8080/",
          "height": 3843
        },
        "outputId": "6554b4b2-918a-4e9c-fe76-3716b6f1f842"
      },
      "cell_type": "code",
      "source": [
        "checkpoint = ModelCheckpoint(src+'inceptionresnet_various_1.h5')\n",
        "earlystop = EarlyStopping(monitor='val_loss',  patience=20,  mode='auto')\n",
        "#callback_list = [cbk, checkpoint]\n",
        "callback_list = [checkpoint,earlystop]\n",
        "for i in range (50):\n",
        "\n",
        "\n",
        "  \n",
        "  train_x,val_x,train_y,val_y = train_test_split(train_data,train_label,test_size=0.2, shuffle=True)\n",
        "  \n",
        "  model.fit(x=train_x, y=train_y, batch_size=32, epochs=50, verbose=1, callbacks=callback_list, validation_split=0.2, shuffle=True)\n",
        "  #print ('epoch', i, 'shape=', len(cbk.outputs))\n",
        "\n",
        "\n",
        "  model.save(src+'inceptionresnet_various_30.h5')\n",
        "  print ('epoch', i, 'model saved')\n",
        "\n",
        "\n",
        "\n",
        "\n",
        "\n"
      ],
      "execution_count": 12,
      "outputs": [
        {
          "output_type": "stream",
          "text": [
            "Train on 1617 samples, validate on 405 samples\n",
            "Epoch 1/50\n",
            "1617/1617 [==============================] - 6s 4ms/step - loss: 1.7158 - acc: 0.2468 - val_loss: 1.6999 - val_acc: 0.2370\n",
            "Epoch 2/50\n",
            "1617/1617 [==============================] - 2s 1ms/step - loss: 1.6843 - acc: 0.2449 - val_loss: 1.6907 - val_acc: 0.2469\n",
            "Epoch 3/50\n",
            "1617/1617 [==============================] - 2s 1ms/step - loss: 1.6691 - acc: 0.2733 - val_loss: 1.6877 - val_acc: 0.2617\n",
            "Epoch 4/50\n",
            "1617/1617 [==============================] - 2s 1ms/step - loss: 1.6594 - acc: 0.2517 - val_loss: 1.6899 - val_acc: 0.2444\n",
            "Epoch 5/50\n",
            "1617/1617 [==============================] - 2s 1ms/step - loss: 1.6578 - acc: 0.2684 - val_loss: 1.7044 - val_acc: 0.2494\n",
            "Epoch 6/50\n",
            "1617/1617 [==============================] - 2s 1ms/step - loss: 1.6534 - acc: 0.2678 - val_loss: 1.6922 - val_acc: 0.2543\n",
            "Epoch 7/50\n",
            "1617/1617 [==============================] - 2s 1ms/step - loss: 1.6387 - acc: 0.2777 - val_loss: 1.7194 - val_acc: 0.2420\n",
            "Epoch 8/50\n",
            "1617/1617 [==============================] - 2s 1ms/step - loss: 1.6359 - acc: 0.2857 - val_loss: 1.7093 - val_acc: 0.2173\n",
            "Epoch 9/50\n",
            "1617/1617 [==============================] - 2s 1ms/step - loss: 1.6114 - acc: 0.2845 - val_loss: 1.8231 - val_acc: 0.2272\n",
            "Epoch 10/50\n",
            "1617/1617 [==============================] - 2s 1ms/step - loss: 1.5950 - acc: 0.3080 - val_loss: 1.7682 - val_acc: 0.2272\n",
            "Epoch 11/50\n",
            "1617/1617 [==============================] - 2s 1ms/step - loss: 1.5652 - acc: 0.3185 - val_loss: 1.8456 - val_acc: 0.2519\n",
            "Epoch 12/50\n",
            "1617/1617 [==============================] - 2s 1ms/step - loss: 1.5192 - acc: 0.3531 - val_loss: 1.8106 - val_acc: 0.2247\n",
            "Epoch 13/50\n",
            "1617/1617 [==============================] - 2s 1ms/step - loss: 1.4940 - acc: 0.3525 - val_loss: 1.9192 - val_acc: 0.2296\n",
            "Epoch 14/50\n",
            "1617/1617 [==============================] - 2s 1ms/step - loss: 1.4252 - acc: 0.3915 - val_loss: 1.9645 - val_acc: 0.1951\n",
            "Epoch 15/50\n",
            "1617/1617 [==============================] - 2s 1ms/step - loss: 1.3608 - acc: 0.4329 - val_loss: 2.2594 - val_acc: 0.2099\n",
            "Epoch 16/50\n",
            "1617/1617 [==============================] - 2s 1ms/step - loss: 1.2845 - acc: 0.4706 - val_loss: 2.0803 - val_acc: 0.2123\n",
            "Epoch 17/50\n",
            "1617/1617 [==============================] - 2s 1ms/step - loss: 1.1779 - acc: 0.5232 - val_loss: 2.2265 - val_acc: 0.2000\n",
            "Epoch 18/50\n",
            "1617/1617 [==============================] - 2s 1ms/step - loss: 1.0745 - acc: 0.5795 - val_loss: 2.4863 - val_acc: 0.2272\n",
            "Epoch 19/50\n",
            "1617/1617 [==============================] - 2s 1ms/step - loss: 0.9853 - acc: 0.6296 - val_loss: 2.4461 - val_acc: 0.1951\n",
            "Epoch 20/50\n",
            "1617/1617 [==============================] - 2s 1ms/step - loss: 0.8096 - acc: 0.6852 - val_loss: 3.4680 - val_acc: 0.1926\n",
            "Epoch 21/50\n",
            "1617/1617 [==============================] - 2s 1ms/step - loss: 0.7367 - acc: 0.7248 - val_loss: 3.1517 - val_acc: 0.2025\n",
            "Epoch 22/50\n",
            "1617/1617 [==============================] - 2s 1ms/step - loss: 0.6503 - acc: 0.7539 - val_loss: 3.6948 - val_acc: 0.2025\n",
            "Epoch 23/50\n",
            "1617/1617 [==============================] - 2s 1ms/step - loss: 0.6518 - acc: 0.7570 - val_loss: 3.7296 - val_acc: 0.1901\n",
            "epoch 0 model saved\n",
            "Train on 1617 samples, validate on 405 samples\n",
            "Epoch 1/50\n",
            "1617/1617 [==============================] - 2s 1ms/step - loss: 1.3394 - acc: 0.5764 - val_loss: 1.3310 - val_acc: 0.5481\n",
            "Epoch 2/50\n",
            "1617/1617 [==============================] - 2s 1ms/step - loss: 0.9957 - acc: 0.6691 - val_loss: 1.3671 - val_acc: 0.5704\n",
            "Epoch 3/50\n",
            "1617/1617 [==============================] - 2s 1ms/step - loss: 0.8043 - acc: 0.7291 - val_loss: 1.4840 - val_acc: 0.5309\n",
            "Epoch 4/50\n",
            "1617/1617 [==============================] - 2s 1ms/step - loss: 0.7004 - acc: 0.7619 - val_loss: 1.5248 - val_acc: 0.5481\n",
            "Epoch 5/50\n",
            "1617/1617 [==============================] - 2s 1ms/step - loss: 0.5184 - acc: 0.8262 - val_loss: 1.8693 - val_acc: 0.5111\n",
            "Epoch 6/50\n",
            "1617/1617 [==============================] - 2s 1ms/step - loss: 0.4169 - acc: 0.8615 - val_loss: 2.0229 - val_acc: 0.5210\n",
            "Epoch 7/50\n",
            "1617/1617 [==============================] - 2s 1ms/step - loss: 0.4039 - acc: 0.8695 - val_loss: 2.4114 - val_acc: 0.4938\n",
            "Epoch 8/50\n",
            "1617/1617 [==============================] - 2s 1ms/step - loss: 0.3722 - acc: 0.8930 - val_loss: 2.2768 - val_acc: 0.4395\n",
            "Epoch 9/50\n",
            "1617/1617 [==============================] - 2s 1ms/step - loss: 0.3255 - acc: 0.8955 - val_loss: 2.7729 - val_acc: 0.4247\n",
            "Epoch 10/50\n",
            "1617/1617 [==============================] - 2s 1ms/step - loss: 0.2154 - acc: 0.9338 - val_loss: 2.8030 - val_acc: 0.4469\n",
            "Epoch 11/50\n",
            "1617/1617 [==============================] - 2s 1ms/step - loss: 0.2014 - acc: 0.9357 - val_loss: 2.8412 - val_acc: 0.4247\n",
            "Epoch 12/50\n",
            "1617/1617 [==============================] - 2s 1ms/step - loss: 0.1905 - acc: 0.9388 - val_loss: 2.6493 - val_acc: 0.4691\n",
            "Epoch 13/50\n",
            "1617/1617 [==============================] - 2s 1ms/step - loss: 0.1187 - acc: 0.9635 - val_loss: 3.6253 - val_acc: 0.4198\n",
            "Epoch 14/50\n",
            "1617/1617 [==============================] - 2s 1ms/step - loss: 0.2023 - acc: 0.9419 - val_loss: 3.1319 - val_acc: 0.4790\n",
            "Epoch 15/50\n",
            "1617/1617 [==============================] - 2s 1ms/step - loss: 0.2286 - acc: 0.9388 - val_loss: 2.9379 - val_acc: 0.4420\n",
            "Epoch 16/50\n",
            "1617/1617 [==============================] - 2s 1ms/step - loss: 0.1490 - acc: 0.9586 - val_loss: 2.9879 - val_acc: 0.4642\n",
            "Epoch 17/50\n",
            "1617/1617 [==============================] - 2s 1ms/step - loss: 0.1034 - acc: 0.9740 - val_loss: 3.1678 - val_acc: 0.4568\n",
            "Epoch 18/50\n",
            "1617/1617 [==============================] - 2s 1ms/step - loss: 0.0901 - acc: 0.9753 - val_loss: 2.9985 - val_acc: 0.4519\n",
            "Epoch 19/50\n",
            "1617/1617 [==============================] - 2s 1ms/step - loss: 0.1307 - acc: 0.9573 - val_loss: 3.2525 - val_acc: 0.4272\n",
            "Epoch 20/50\n",
            "1617/1617 [==============================] - 2s 1ms/step - loss: 0.1447 - acc: 0.9567 - val_loss: 3.3756 - val_acc: 0.4420\n",
            "Epoch 21/50\n",
            "1617/1617 [==============================] - 2s 1ms/step - loss: 0.1038 - acc: 0.9746 - val_loss: 3.3913 - val_acc: 0.4568\n",
            "epoch 1 model saved\n",
            "Train on 1617 samples, validate on 405 samples\n",
            "Epoch 1/50\n",
            "1617/1617 [==============================] - 3s 2ms/step - loss: 1.0813 - acc: 0.7236 - val_loss: 0.9484 - val_acc: 0.6889\n",
            "Epoch 2/50\n",
            "1617/1617 [==============================] - 3s 2ms/step - loss: 0.6099 - acc: 0.8176 - val_loss: 0.9203 - val_acc: 0.7630\n",
            "Epoch 3/50\n",
            "1617/1617 [==============================] - 3s 2ms/step - loss: 0.3365 - acc: 0.9054 - val_loss: 0.9775 - val_acc: 0.7259\n",
            "Epoch 4/50\n",
            "1617/1617 [==============================] - 3s 2ms/step - loss: 0.2149 - acc: 0.9363 - val_loss: 1.1302 - val_acc: 0.7358\n",
            "Epoch 5/50\n",
            "1617/1617 [==============================] - 3s 2ms/step - loss: 0.1365 - acc: 0.9617 - val_loss: 1.2727 - val_acc: 0.7506\n",
            "Epoch 6/50\n",
            "1617/1617 [==============================] - 3s 2ms/step - loss: 0.0720 - acc: 0.9814 - val_loss: 1.3745 - val_acc: 0.7235\n",
            "Epoch 7/50\n",
            "1617/1617 [==============================] - 3s 2ms/step - loss: 0.0883 - acc: 0.9759 - val_loss: 1.5097 - val_acc: 0.7309\n",
            "Epoch 8/50\n",
            "1617/1617 [==============================] - 3s 2ms/step - loss: 0.1310 - acc: 0.9579 - val_loss: 1.5073 - val_acc: 0.7012\n",
            "Epoch 9/50\n",
            "1617/1617 [==============================] - 3s 2ms/step - loss: 0.1860 - acc: 0.9437 - val_loss: 1.6597 - val_acc: 0.6321\n",
            "Epoch 10/50\n",
            "1617/1617 [==============================] - 3s 2ms/step - loss: 0.3250 - acc: 0.9165 - val_loss: 1.6799 - val_acc: 0.6296\n",
            "Epoch 11/50\n",
            "1617/1617 [==============================] - 3s 2ms/step - loss: 0.1859 - acc: 0.9456 - val_loss: 1.9812 - val_acc: 0.6321\n",
            "Epoch 12/50\n",
            "1617/1617 [==============================] - 3s 2ms/step - loss: 0.2032 - acc: 0.9443 - val_loss: 1.6979 - val_acc: 0.6247\n",
            "Epoch 13/50\n",
            "1617/1617 [==============================] - 3s 2ms/step - loss: 0.1515 - acc: 0.9647 - val_loss: 1.5534 - val_acc: 0.6321\n",
            "Epoch 14/50\n",
            "1617/1617 [==============================] - 3s 2ms/step - loss: 0.0899 - acc: 0.9746 - val_loss: 1.8244 - val_acc: 0.6370\n",
            "Epoch 15/50\n",
            "1617/1617 [==============================] - 3s 2ms/step - loss: 0.0549 - acc: 0.9808 - val_loss: 1.8823 - val_acc: 0.6691\n",
            "Epoch 16/50\n",
            "1617/1617 [==============================] - 3s 2ms/step - loss: 0.0431 - acc: 0.9876 - val_loss: 2.0097 - val_acc: 0.6543\n",
            "Epoch 17/50\n",
            "1617/1617 [==============================] - 3s 2ms/step - loss: 0.0429 - acc: 0.9889 - val_loss: 2.0749 - val_acc: 0.6321\n",
            "Epoch 18/50\n",
            "1617/1617 [==============================] - 3s 2ms/step - loss: 0.1868 - acc: 0.9536 - val_loss: 2.2765 - val_acc: 0.5679\n",
            "Epoch 19/50\n",
            "1617/1617 [==============================] - 3s 2ms/step - loss: 0.1041 - acc: 0.9709 - val_loss: 2.3476 - val_acc: 0.6123\n",
            "Epoch 20/50\n",
            "1617/1617 [==============================] - 3s 2ms/step - loss: 0.0448 - acc: 0.9864 - val_loss: 2.4193 - val_acc: 0.6099\n",
            "Epoch 21/50\n",
            "1617/1617 [==============================] - 3s 2ms/step - loss: 0.0706 - acc: 0.9796 - val_loss: 2.5664 - val_acc: 0.5901\n",
            "Epoch 22/50\n",
            "1617/1617 [==============================] - 3s 2ms/step - loss: 0.0466 - acc: 0.9858 - val_loss: 2.5320 - val_acc: 0.5802\n",
            "epoch 2 model saved\n",
            "Train on 1617 samples, validate on 405 samples\n",
            "Epoch 1/50\n",
            "1617/1617 [==============================] - 2s 1ms/step - loss: 0.8710 - acc: 0.7755 - val_loss: 0.7055 - val_acc: 0.7852\n",
            "Epoch 2/50\n",
            "1617/1617 [==============================] - 2s 1ms/step - loss: 0.4153 - acc: 0.8881 - val_loss: 0.6876 - val_acc: 0.8123\n",
            "Epoch 3/50\n",
            "1617/1617 [==============================] - 2s 1ms/step - loss: 0.2015 - acc: 0.9456 - val_loss: 0.8374 - val_acc: 0.7901\n",
            "Epoch 4/50\n",
            "1617/1617 [==============================] - 2s 1ms/step - loss: 0.1083 - acc: 0.9709 - val_loss: 0.9571 - val_acc: 0.8025\n",
            "Epoch 5/50\n",
            "1617/1617 [==============================] - 2s 1ms/step - loss: 0.0871 - acc: 0.9771 - val_loss: 0.8524 - val_acc: 0.8099\n",
            "Epoch 6/50\n",
            "1617/1617 [==============================] - 2s 1ms/step - loss: 0.0582 - acc: 0.9833 - val_loss: 0.9847 - val_acc: 0.8000\n",
            "Epoch 7/50\n",
            "1617/1617 [==============================] - 2s 1ms/step - loss: 0.0799 - acc: 0.9790 - val_loss: 1.2064 - val_acc: 0.7679\n",
            "Epoch 8/50\n",
            "1617/1617 [==============================] - 2s 1ms/step - loss: 0.0581 - acc: 0.9858 - val_loss: 0.9929 - val_acc: 0.8123\n",
            "Epoch 9/50\n",
            "1617/1617 [==============================] - 2s 1ms/step - loss: 0.0840 - acc: 0.9722 - val_loss: 1.0136 - val_acc: 0.8000\n",
            "Epoch 10/50\n",
            "1617/1617 [==============================] - 2s 1ms/step - loss: 0.0750 - acc: 0.9790 - val_loss: 1.2345 - val_acc: 0.7753\n",
            "Epoch 11/50\n",
            "1617/1617 [==============================] - 2s 1ms/step - loss: 0.0930 - acc: 0.9697 - val_loss: 1.3602 - val_acc: 0.7778\n",
            "Epoch 12/50\n",
            "1617/1617 [==============================] - 2s 1ms/step - loss: 0.1336 - acc: 0.9573 - val_loss: 1.3484 - val_acc: 0.7383\n",
            "Epoch 13/50\n",
            "1617/1617 [==============================] - 2s 1ms/step - loss: 0.0816 - acc: 0.9765 - val_loss: 1.3437 - val_acc: 0.7580\n",
            "Epoch 14/50\n",
            "1617/1617 [==============================] - 2s 1ms/step - loss: 0.1412 - acc: 0.9598 - val_loss: 1.4014 - val_acc: 0.7235\n",
            "Epoch 15/50\n",
            "1617/1617 [==============================] - 2s 1ms/step - loss: 0.2107 - acc: 0.9301 - val_loss: 1.2160 - val_acc: 0.7309\n",
            "Epoch 16/50\n",
            "1617/1617 [==============================] - 2s 1ms/step - loss: 0.0895 - acc: 0.9765 - val_loss: 1.2930 - val_acc: 0.7457\n",
            "Epoch 17/50\n",
            "1617/1617 [==============================] - 2s 1ms/step - loss: 0.0829 - acc: 0.9728 - val_loss: 1.2225 - val_acc: 0.7383\n",
            "Epoch 18/50\n",
            "1617/1617 [==============================] - 2s 1ms/step - loss: 0.0679 - acc: 0.9808 - val_loss: 1.4787 - val_acc: 0.6815\n",
            "Epoch 19/50\n",
            "1617/1617 [==============================] - 2s 1ms/step - loss: 0.1296 - acc: 0.9660 - val_loss: 1.3044 - val_acc: 0.7309\n",
            "Epoch 20/50\n",
            "1617/1617 [==============================] - 2s 1ms/step - loss: 0.0679 - acc: 0.9784 - val_loss: 1.3065 - val_acc: 0.7531\n",
            "Epoch 21/50\n",
            "1617/1617 [==============================] - 2s 1ms/step - loss: 0.0450 - acc: 0.9876 - val_loss: 1.5375 - val_acc: 0.7086\n",
            "Epoch 22/50\n",
            "1617/1617 [==============================] - 2s 1ms/step - loss: 0.0650 - acc: 0.9821 - val_loss: 1.6299 - val_acc: 0.7086\n",
            "epoch 3 model saved\n",
            "Train on 1617 samples, validate on 405 samples\n",
            "Epoch 1/50\n",
            "1617/1617 [==============================] - 3s 2ms/step - loss: 0.6408 - acc: 0.8398 - val_loss: 0.5614 - val_acc: 0.8173\n",
            "Epoch 2/50\n",
            "1617/1617 [==============================] - 3s 2ms/step - loss: 0.3080 - acc: 0.9128 - val_loss: 0.5100 - val_acc: 0.8469\n",
            "Epoch 3/50\n",
            "1617/1617 [==============================] - 3s 2ms/step - loss: 0.1726 - acc: 0.9561 - val_loss: 0.5029 - val_acc: 0.8691\n",
            "Epoch 4/50\n",
            "1617/1617 [==============================] - 3s 2ms/step - loss: 0.0857 - acc: 0.9746 - val_loss: 0.5824 - val_acc: 0.8667\n",
            "Epoch 5/50\n",
            "1617/1617 [==============================] - 3s 2ms/step - loss: 0.0509 - acc: 0.9845 - val_loss: 0.5942 - val_acc: 0.8667\n",
            "Epoch 6/50\n",
            "1312/1617 [=======================>......] - ETA: 0s - loss: 0.0228 - acc: 0.9931"
          ],
          "name": "stdout"
        },
        {
          "output_type": "error",
          "ename": "KeyboardInterrupt",
          "evalue": "ignored",
          "traceback": [
            "\u001b[0;31m---------------------------------------------------------------------------\u001b[0m",
            "\u001b[0;31mKeyboardInterrupt\u001b[0m                         Traceback (most recent call last)",
            "\u001b[0;32m<ipython-input-12-1fb9ef3617e7>\u001b[0m in \u001b[0;36m<module>\u001b[0;34m()\u001b[0m\n\u001b[1;32m      9\u001b[0m   \u001b[0mtrain_x\u001b[0m\u001b[0;34m,\u001b[0m\u001b[0mval_x\u001b[0m\u001b[0;34m,\u001b[0m\u001b[0mtrain_y\u001b[0m\u001b[0;34m,\u001b[0m\u001b[0mval_y\u001b[0m \u001b[0;34m=\u001b[0m \u001b[0mtrain_test_split\u001b[0m\u001b[0;34m(\u001b[0m\u001b[0mtrain_data\u001b[0m\u001b[0;34m,\u001b[0m\u001b[0mtrain_label\u001b[0m\u001b[0;34m,\u001b[0m\u001b[0mtest_size\u001b[0m\u001b[0;34m=\u001b[0m\u001b[0;36m0.2\u001b[0m\u001b[0;34m,\u001b[0m \u001b[0mshuffle\u001b[0m\u001b[0;34m=\u001b[0m\u001b[0;32mTrue\u001b[0m\u001b[0;34m)\u001b[0m\u001b[0;34m\u001b[0m\u001b[0m\n\u001b[1;32m     10\u001b[0m \u001b[0;34m\u001b[0m\u001b[0m\n\u001b[0;32m---> 11\u001b[0;31m   \u001b[0mmodel\u001b[0m\u001b[0;34m.\u001b[0m\u001b[0mfit\u001b[0m\u001b[0;34m(\u001b[0m\u001b[0mx\u001b[0m\u001b[0;34m=\u001b[0m\u001b[0mtrain_x\u001b[0m\u001b[0;34m,\u001b[0m \u001b[0my\u001b[0m\u001b[0;34m=\u001b[0m\u001b[0mtrain_y\u001b[0m\u001b[0;34m,\u001b[0m \u001b[0mbatch_size\u001b[0m\u001b[0;34m=\u001b[0m\u001b[0;36m32\u001b[0m\u001b[0;34m,\u001b[0m \u001b[0mepochs\u001b[0m\u001b[0;34m=\u001b[0m\u001b[0;36m50\u001b[0m\u001b[0;34m,\u001b[0m \u001b[0mverbose\u001b[0m\u001b[0;34m=\u001b[0m\u001b[0;36m1\u001b[0m\u001b[0;34m,\u001b[0m \u001b[0mcallbacks\u001b[0m\u001b[0;34m=\u001b[0m\u001b[0mcallback_list\u001b[0m\u001b[0;34m,\u001b[0m \u001b[0mvalidation_split\u001b[0m\u001b[0;34m=\u001b[0m\u001b[0;36m0.2\u001b[0m\u001b[0;34m,\u001b[0m \u001b[0mshuffle\u001b[0m\u001b[0;34m=\u001b[0m\u001b[0;32mTrue\u001b[0m\u001b[0;34m)\u001b[0m\u001b[0;34m\u001b[0m\u001b[0m\n\u001b[0m\u001b[1;32m     12\u001b[0m   \u001b[0;31m#print ('epoch', i, 'shape=', len(cbk.outputs))\u001b[0m\u001b[0;34m\u001b[0m\u001b[0;34m\u001b[0m\u001b[0m\n\u001b[1;32m     13\u001b[0m \u001b[0;34m\u001b[0m\u001b[0m\n",
            "\u001b[0;32m/usr/local/lib/python3.6/dist-packages/keras/engine/training.py\u001b[0m in \u001b[0;36mfit\u001b[0;34m(self, x, y, batch_size, epochs, verbose, callbacks, validation_split, validation_data, shuffle, class_weight, sample_weight, initial_epoch, steps_per_epoch, validation_steps, **kwargs)\u001b[0m\n\u001b[1;32m   1703\u001b[0m                               \u001b[0minitial_epoch\u001b[0m\u001b[0;34m=\u001b[0m\u001b[0minitial_epoch\u001b[0m\u001b[0;34m,\u001b[0m\u001b[0;34m\u001b[0m\u001b[0m\n\u001b[1;32m   1704\u001b[0m                               \u001b[0msteps_per_epoch\u001b[0m\u001b[0;34m=\u001b[0m\u001b[0msteps_per_epoch\u001b[0m\u001b[0;34m,\u001b[0m\u001b[0;34m\u001b[0m\u001b[0m\n\u001b[0;32m-> 1705\u001b[0;31m                               validation_steps=validation_steps)\n\u001b[0m\u001b[1;32m   1706\u001b[0m \u001b[0;34m\u001b[0m\u001b[0m\n\u001b[1;32m   1707\u001b[0m     def evaluate(self, x=None, y=None,\n",
            "\u001b[0;32m/usr/local/lib/python3.6/dist-packages/keras/engine/training.py\u001b[0m in \u001b[0;36m_fit_loop\u001b[0;34m(self, f, ins, out_labels, batch_size, epochs, verbose, callbacks, val_f, val_ins, shuffle, callback_metrics, initial_epoch, steps_per_epoch, validation_steps)\u001b[0m\n\u001b[1;32m   1222\u001b[0m                             \u001b[0mins_batch\u001b[0m \u001b[0;34m=\u001b[0m \u001b[0m_slice_arrays\u001b[0m\u001b[0;34m(\u001b[0m\u001b[0mins\u001b[0m\u001b[0;34m[\u001b[0m\u001b[0;34m:\u001b[0m\u001b[0;34m-\u001b[0m\u001b[0;36m1\u001b[0m\u001b[0;34m]\u001b[0m\u001b[0;34m,\u001b[0m \u001b[0mbatch_ids\u001b[0m\u001b[0;34m)\u001b[0m \u001b[0;34m+\u001b[0m \u001b[0;34m[\u001b[0m\u001b[0mins\u001b[0m\u001b[0;34m[\u001b[0m\u001b[0;34m-\u001b[0m\u001b[0;36m1\u001b[0m\u001b[0;34m]\u001b[0m\u001b[0;34m]\u001b[0m\u001b[0;34m\u001b[0m\u001b[0m\n\u001b[1;32m   1223\u001b[0m                         \u001b[0;32melse\u001b[0m\u001b[0;34m:\u001b[0m\u001b[0;34m\u001b[0m\u001b[0m\n\u001b[0;32m-> 1224\u001b[0;31m                             \u001b[0mins_batch\u001b[0m \u001b[0;34m=\u001b[0m \u001b[0m_slice_arrays\u001b[0m\u001b[0;34m(\u001b[0m\u001b[0mins\u001b[0m\u001b[0;34m,\u001b[0m \u001b[0mbatch_ids\u001b[0m\u001b[0;34m)\u001b[0m\u001b[0;34m\u001b[0m\u001b[0m\n\u001b[0m\u001b[1;32m   1225\u001b[0m                     \u001b[0;32mexcept\u001b[0m \u001b[0mTypeError\u001b[0m\u001b[0;34m:\u001b[0m\u001b[0;34m\u001b[0m\u001b[0m\n\u001b[1;32m   1226\u001b[0m                         raise TypeError('TypeError while preparing batch. '\n",
            "\u001b[0;31mKeyboardInterrupt\u001b[0m: "
          ]
        }
      ]
    },
    {
      "metadata": {
        "id": "ier2J4W-Kanh",
        "colab_type": "code",
        "colab": {
          "base_uri": "https://localhost:8080/",
          "height": 51
        },
        "outputId": "0642626a-a98b-4b90-c924-21ad38422db2"
      },
      "cell_type": "code",
      "source": [
        "model.evaluate(val_x,val_y)"
      ],
      "execution_count": 14,
      "outputs": [
        {
          "output_type": "stream",
          "text": [
            "506/506 [==============================] - 1s 1ms/step\n"
          ],
          "name": "stdout"
        },
        {
          "output_type": "execute_result",
          "data": {
            "text/plain": [
              "[0.5859008725923983, 0.8636363638719551]"
            ]
          },
          "metadata": {
            "tags": []
          },
          "execution_count": 14
        }
      ]
    },
    {
      "metadata": {
        "id": "td29GfFwVbFN",
        "colab_type": "code",
        "colab": {}
      },
      "cell_type": "code",
      "source": [
        ""
      ],
      "execution_count": 0,
      "outputs": []
    }
  ]
}