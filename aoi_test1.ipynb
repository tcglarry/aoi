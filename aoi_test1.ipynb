{
 "cells": [
  {
   "cell_type": "code",
   "execution_count": 1,
   "metadata": {},
   "outputs": [
    {
     "name": "stderr",
     "output_type": "stream",
     "text": [
      "Using TensorFlow backend.\n"
     ]
    }
   ],
   "source": [
    "import cv2\n",
    "import numpy as np\n",
    "import matplotlib.pyplot as plt\n",
    "import keras.backend as K\n",
    "import tensorflow as tf\n",
    "import subprocess\n",
    "import os\n",
    "import pickle\n",
    "from keras.layers import Input, Conv2D, MaxPooling2D, merge, Lambda,UpSampling2D, concatenate\n",
    "from keras.models import Model\n",
    "import pandas as pd\n",
    "import sklearn \n",
    "from sklearn.preprocessing import OneHotEncoder\n",
    "from sklearn.model_selection import train_test_split"
   ]
  },
  {
   "cell_type": "code",
   "execution_count": 2,
   "metadata": {},
   "outputs": [],
   "source": [
    "train_img = os.listdir('train_images')"
   ]
  },
  {
   "cell_type": "code",
   "execution_count": 3,
   "metadata": {},
   "outputs": [
    {
     "data": {
      "text/plain": [
       "2528"
      ]
     },
     "execution_count": 3,
     "metadata": {},
     "output_type": "execute_result"
    }
   ],
   "source": [
    "len(train_img)"
   ]
  },
  {
   "cell_type": "code",
   "execution_count": 4,
   "metadata": {},
   "outputs": [
    {
     "data": {
      "text/plain": [
       "'train_01927.png'"
      ]
     },
     "execution_count": 4,
     "metadata": {},
     "output_type": "execute_result"
    }
   ],
   "source": [
    "train_img[0]"
   ]
  },
  {
   "cell_type": "code",
   "execution_count": 5,
   "metadata": {},
   "outputs": [],
   "source": [
    "x = cv2.imread('train_images/'+train_img[0])"
   ]
  },
  {
   "cell_type": "code",
   "execution_count": 6,
   "metadata": {},
   "outputs": [
    {
     "name": "stdout",
     "output_type": "stream",
     "text": [
      "(512, 512, 3)\n"
     ]
    }
   ],
   "source": [
    "print (x.shape)"
   ]
  },
  {
   "cell_type": "code",
   "execution_count": 7,
   "metadata": {},
   "outputs": [],
   "source": [
    "img_list=[]\n",
    "for i,img in enumerate(train_img):\n",
    "    x = cv2.imread('train_images/'+img, cv2.IMREAD_GRAYSCALE)\n",
    "    img_list.append(x)\n"
   ]
  },
  {
   "cell_type": "code",
   "execution_count": 8,
   "metadata": {},
   "outputs": [
    {
     "name": "stdout",
     "output_type": "stream",
     "text": [
      "(2528, 512, 512, 1)\n"
     ]
    }
   ],
   "source": [
    "train_data = np.array(img_list)\n",
    "train_data =  train_data[:,:,:,np.newaxis]\n",
    "print (train_data.shape)"
   ]
  },
  {
   "cell_type": "code",
   "execution_count": 9,
   "metadata": {},
   "outputs": [
    {
     "data": {
      "text/plain": [
       "0    674\n",
       "5    644\n",
       "1    492\n",
       "3    378\n",
       "4    240\n",
       "2    100\n",
       "Name: Label, dtype: int64"
      ]
     },
     "execution_count": 9,
     "metadata": {},
     "output_type": "execute_result"
    }
   ],
   "source": [
    "df_y = pd.read_csv('train.csv')\n",
    "df_y['Label'].value_counts()"
   ]
  },
  {
   "cell_type": "code",
   "execution_count": 10,
   "metadata": {},
   "outputs": [],
   "source": [
    "train_y =  df_y['Label'].values"
   ]
  },
  {
   "cell_type": "code",
   "execution_count": 11,
   "metadata": {},
   "outputs": [
    {
     "name": "stdout",
     "output_type": "stream",
     "text": [
      "(2528, 1)\n",
      "beofre (2528, 6)\n",
      "0    0\n",
      "1    1\n",
      "2    1\n",
      "3    5\n",
      "4    5\n",
      "5    5\n",
      "6    3\n",
      "7    0\n",
      "8    3\n",
      "9    5\n",
      "Name: Label, dtype: int64\n",
      "[[1. 0. 0. 0. 0. 0.]\n",
      " [0. 1. 0. 0. 0. 0.]\n",
      " [0. 1. 0. 0. 0. 0.]\n",
      " [0. 0. 0. 0. 0. 1.]\n",
      " [0. 0. 0. 0. 0. 1.]\n",
      " [0. 0. 0. 0. 0. 1.]\n",
      " [0. 0. 0. 1. 0. 0.]\n",
      " [1. 0. 0. 0. 0. 0.]\n",
      " [0. 0. 0. 1. 0. 0.]\n",
      " [0. 0. 0. 0. 0. 1.]]\n",
      "after (2528, 1, 1, 6)\n"
     ]
    }
   ],
   "source": [
    "onehot_encoder = OneHotEncoder(sparse=False)\n",
    "train_y = train_y.reshape(len(train_y), 1)\n",
    "print (train_y.shape)\n",
    "train_label = onehot_encoder.fit_transform(train_y)\n",
    "\n",
    "\n",
    "print ('beofre', train_label.shape)\n",
    "print (df_y['Label'][:10])\n",
    "print (train_label[:10,:])\n",
    "\n",
    "train_label = train_label[:,np.newaxis,np.newaxis,:]\n",
    "\n",
    "print ('after', train_label.shape)"
   ]
  },
  {
   "cell_type": "code",
   "execution_count": 20,
   "metadata": {},
   "outputs": [
    {
     "name": "stdout",
     "output_type": "stream",
     "text": [
      "(2022, 512, 512, 1)\n",
      "(2022, 1, 1, 6)\n",
      "(506, 512, 512, 1)\n",
      "(506, 1, 1, 6)\n"
     ]
    }
   ],
   "source": [
    "train_x,val_x,train_y,val_y = train_test_split(train_data,train_label,test_size=0.2, shuffle=True)\n",
    "print (train_x.shape)\n",
    "print (train_y.shape)\n",
    "print (val_x.shape)\n",
    "print (val_y.shape)"
   ]
  },
  {
   "cell_type": "markdown",
   "metadata": {},
   "source": [
    "IMAGE_LENTH = train_data [0]\n",
    "IMAGE_HEIGHT = train_data [1]\n",
    "IMAGE_WIDTH = train_data[2]\n",
    "IMAGE_CHANNEL = train_data[3]\n",
    "ch = 4"
   ]
  },
  {
   "cell_type": "code",
   "execution_count": 13,
   "metadata": {},
   "outputs": [],
   "source": [
    "def conv_block(ch, activation= 'relu', padding='same'):       \n",
    "    return Conv2D(ch,(3,3),activation= activation, padding =padding )\n"
   ]
  },
  {
   "cell_type": "code",
   "execution_count": 22,
   "metadata": {},
   "outputs": [],
   "source": [
    "#def build_model_1(IMAGE_HEIGHT=IMAGE_HEIGHT,IMAGE_WIDTH=IMAGE_WIDTH,ch=ch):\n",
    "def build_model_1(ch=4, category=6):\n",
    "    #inputs = Input((IMAGE_HEIGHT,IMAGE_WIDTH,ch))\n",
    "    inputs = Input((512,512,1))\n",
    "    inputs_norms = Lambda(lambda x : x/127.5 -1.0)(inputs)\n",
    "    conv1 =  conv_block(ch)(inputs_norms)\n",
    "    conv1 = conv_block(ch)(conv1)\n",
    "    pool1 = MaxPooling2D(pool_size=(2,2))(conv1)\n",
    "    \n",
    "    conv2 =  conv_block(ch*2)(pool1)\n",
    "    conv2 = conv_block(ch*2)(conv2)\n",
    "    pool2 = MaxPooling2D(pool_size=(2,2))(conv2)\n",
    "    \n",
    "    conv3 =  conv_block(ch*4)(pool2)\n",
    "    conv3 = conv_block(ch*4)(conv3)\n",
    "    pool3 = MaxPooling2D(pool_size=(2,2))(conv3)\n",
    "    \n",
    "    \n",
    "    conv4 =  conv_block(ch*8)(pool3)\n",
    "    conv4 = conv_block(ch*8)(conv4)\n",
    "    pool4 = MaxPooling2D(pool_size=(2,2))(conv4)\n",
    "    \n",
    "    conv5 =  conv_block(ch*16)(pool4)\n",
    "    conv5 = conv_block(ch*16)(conv5)\n",
    "\n",
    "    \n",
    "    up6 = concatenate([UpSampling2D(size=(2,2))(conv5), conv4], axis=3)\n",
    "    conv6 = conv_block(ch*8)(up6)\n",
    "    conv6 = conv_block(ch*8)(conv6)\n",
    "    \n",
    "    up7 = concatenate ([UpSampling2D(size=(2,2))(conv6), conv3],  axis=3)\n",
    "    conv7 = conv_block(ch*4)(up7)\n",
    "    conv7 = conv_block(ch*4)(conv7)\n",
    "    \n",
    "    up8 = concatenate([UpSampling2D(size=(2,2))(conv7), conv2], axis=3)\n",
    "    conv8 = conv_block(ch*2)(up8)\n",
    "    conv8 = conv_block(ch*2)(conv8)\n",
    "    \n",
    "    up9 = concatenate([UpSampling2D(size=(2,2))(conv8), conv1],  axis=3)\n",
    "    conv9 = conv_block(ch)(up9)\n",
    "    conv9 = conv_block(ch)(conv9)\n",
    "    \n",
    "    \n",
    "    \n",
    "    conv10 = Conv2D(1,(1,1))(conv9)\n",
    "    \n",
    "    #model = Model(inputs= inputs, outputs = pool4)\n",
    "\n",
    "    conv_11 =  conv_block(ch)(conv10)\n",
    "    conv_11 = conv_block(ch)(conv_11)\n",
    "    pool_11 = MaxPooling2D(pool_size=(2,2))(conv_11)\n",
    "\n",
    "    conv_12 =  conv_block(ch*2)(pool_11)\n",
    "    conv_12 = conv_block(ch*2)(conv_12)\n",
    "    pool_12 = MaxPooling2D(pool_size=(2,2))(conv_12)\n",
    "\n",
    "    conv_13 =  conv_block(ch*4)(pool_12)\n",
    "    conv_13 = conv_block(ch*4)(conv_13)\n",
    "    pool_13 = MaxPooling2D(pool_size=(2,2))(conv_13)\n",
    "\n",
    "\n",
    "    conv_14 =  conv_block(ch*8)(pool_13)\n",
    "    conv_14 = conv_block(ch*8)(conv_14)\n",
    "    pool_14 = MaxPooling2D(pool_size=(2,2))(conv_14)\n",
    "\n",
    "    conv_15 =  conv_block(ch*16)(pool_14)\n",
    "    conv_15 = conv_block(ch*16)(conv_15)\n",
    "    pool_15 = MaxPooling2D(pool_size=(2,2))(conv_15)\n",
    "\n",
    "    conv_16 =  conv_block(ch*16)(pool_15)\n",
    "    conv_16 = conv_block(ch*16)(conv_16)\n",
    "    pool_16 = MaxPooling2D(pool_size=(2,2))(conv_16)\n",
    "\n",
    "    conv_17 =  conv_block(ch*16)(pool_16)\n",
    "    conv_17 = conv_block(ch*16)(conv_17)\n",
    "    pool_17 = MaxPooling2D(pool_size=(2,2))(conv_17)\n",
    "\n",
    "    conv_18 =  conv_block(ch*16)(pool_17)\n",
    "    conv_18 = conv_block(ch*16)(conv_18)\n",
    "    pool_18 = MaxPooling2D(pool_size=(2,2))(conv_18)\n",
    "\n",
    "    conv_19 =  conv_block(ch*8)(pool_18)\n",
    "    conv_19 = conv_block(ch*8)(conv_19)\n",
    "    pool_19 = MaxPooling2D(pool_size=(2,2), padding='valid')(conv_19)\n",
    "\n",
    "\n",
    "    conv_20 = Conv2D(category,(1,1),activation='softmax')(pool_19)\n",
    "\n",
    "  \n",
    "    \n",
    "  \n",
    "    model = Model(inputs= inputs, outputs=conv_20)\n",
    "    \n",
    "    return model\n",
    "    \n",
    "    "
   ]
  },
  {
   "cell_type": "markdown",
   "metadata": {},
   "source": [
    "def build_model_2(build_model_1):\n",
    "    #inputs = Input((IMAGE_HEIGHT,IMAGE_WIDTH,ch))\n",
    "    conv = build_model_1()\n",
    "    conv1 =  conv_block(ch)(conv)\n",
    "    conv1 = conv_block(ch)(conv1)\n",
    "    pool1 = MaxPooling2D(pool_size=(2,2))(conv1)\n",
    "    \n",
    "    conv2 =  conv_block(ch*2)(pool1)\n",
    "    conv2 = conv_block(ch*2)(conv2)\n",
    "    pool2 = MaxPooling2D(pool_size=(2,2))(conv2)\n",
    "    \n",
    "    conv3 =  conv_block(ch*4)(pool2)\n",
    "    conv3 = conv_block(ch*4)(conv3)\n",
    "    pool3 = MaxPooling2D(pool_size=(2,2))(conv3)\n",
    "    \n",
    "    \n",
    "    conv4 =  conv_block(ch*8)(pool3)\n",
    "    conv4 = conv_block(ch*8)(conv4)\n",
    "    pool4 = MaxPooling2D(pool_size=(2,2))(conv4)\n",
    "    \n",
    "    conv5 =  conv_block(ch*16)(pool4)\n",
    "    conv5 = conv_block(ch*16)(conv5)\n",
    "    pool5 = MaxPooling2D(pool_size=(2,2))(conv5)\n",
    "\n",
    "    conv6 =  conv_block(ch*16)(pool5)\n",
    "    conv6 = conv_block(ch*16)(conv6)\n",
    "    pool6 = MaxPooling2D(pool_size=(2,2))(conv6)\n",
    "    \n",
    "    conv7 =  conv_block(ch*16)(pool6)\n",
    "    conv7 = conv_block(ch*16)(conv7)\n",
    "    pool7 = MaxPooling2D(pool_size=(2,2))(conv7)\n",
    "    \n",
    "    conv8 =  conv_block(ch*16)(pool7)\n",
    "    conv8 = conv_block(ch*16)(conv8)\n",
    "    pool8 = MaxPooling2D(pool_size=(2,2))(conv8)\n",
    "    \n",
    "    conv9 =  conv_block(ch*8)(pool8)\n",
    "    conv9 = conv_block(ch*8)(conv9)\n",
    "    pool9 = MaxPooling2D(pool_size=(2,2), padding='valid')(conv9)\n",
    "    \n",
    "\n",
    "    conv10 = Conv2D(5,(1,1),activation='softmax')(pool9)\n",
    "    \n",
    "    \n",
    "    return conv10"
   ]
  },
  {
   "cell_type": "code",
   "execution_count": 23,
   "metadata": {},
   "outputs": [
    {
     "name": "stdout",
     "output_type": "stream",
     "text": [
      "__________________________________________________________________________________________________\n",
      "Layer (type)                    Output Shape         Param #     Connected to                     \n",
      "==================================================================================================\n",
      "input_2 (InputLayer)            (None, 512, 512, 1)  0                                            \n",
      "__________________________________________________________________________________________________\n",
      "lambda_2 (Lambda)               (None, 512, 512, 1)  0           input_2[0][0]                    \n",
      "__________________________________________________________________________________________________\n",
      "conv2d_39 (Conv2D)              (None, 512, 512, 4)  40          lambda_2[0][0]                   \n",
      "__________________________________________________________________________________________________\n",
      "conv2d_40 (Conv2D)              (None, 512, 512, 4)  148         conv2d_39[0][0]                  \n",
      "__________________________________________________________________________________________________\n",
      "max_pooling2d_14 (MaxPooling2D) (None, 256, 256, 4)  0           conv2d_40[0][0]                  \n",
      "__________________________________________________________________________________________________\n",
      "conv2d_41 (Conv2D)              (None, 256, 256, 8)  296         max_pooling2d_14[0][0]           \n",
      "__________________________________________________________________________________________________\n",
      "conv2d_42 (Conv2D)              (None, 256, 256, 8)  584         conv2d_41[0][0]                  \n",
      "__________________________________________________________________________________________________\n",
      "max_pooling2d_15 (MaxPooling2D) (None, 128, 128, 8)  0           conv2d_42[0][0]                  \n",
      "__________________________________________________________________________________________________\n",
      "conv2d_43 (Conv2D)              (None, 128, 128, 16) 1168        max_pooling2d_15[0][0]           \n",
      "__________________________________________________________________________________________________\n",
      "conv2d_44 (Conv2D)              (None, 128, 128, 16) 2320        conv2d_43[0][0]                  \n",
      "__________________________________________________________________________________________________\n",
      "max_pooling2d_16 (MaxPooling2D) (None, 64, 64, 16)   0           conv2d_44[0][0]                  \n",
      "__________________________________________________________________________________________________\n",
      "conv2d_45 (Conv2D)              (None, 64, 64, 32)   4640        max_pooling2d_16[0][0]           \n",
      "__________________________________________________________________________________________________\n",
      "conv2d_46 (Conv2D)              (None, 64, 64, 32)   9248        conv2d_45[0][0]                  \n",
      "__________________________________________________________________________________________________\n",
      "max_pooling2d_17 (MaxPooling2D) (None, 32, 32, 32)   0           conv2d_46[0][0]                  \n",
      "__________________________________________________________________________________________________\n",
      "conv2d_47 (Conv2D)              (None, 32, 32, 64)   18496       max_pooling2d_17[0][0]           \n",
      "__________________________________________________________________________________________________\n",
      "conv2d_48 (Conv2D)              (None, 32, 32, 64)   36928       conv2d_47[0][0]                  \n",
      "__________________________________________________________________________________________________\n",
      "up_sampling2d_5 (UpSampling2D)  (None, 64, 64, 64)   0           conv2d_48[0][0]                  \n",
      "__________________________________________________________________________________________________\n",
      "concatenate_5 (Concatenate)     (None, 64, 64, 96)   0           up_sampling2d_5[0][0]            \n",
      "                                                                 conv2d_46[0][0]                  \n",
      "__________________________________________________________________________________________________\n",
      "conv2d_49 (Conv2D)              (None, 64, 64, 32)   27680       concatenate_5[0][0]              \n",
      "__________________________________________________________________________________________________\n",
      "conv2d_50 (Conv2D)              (None, 64, 64, 32)   9248        conv2d_49[0][0]                  \n",
      "__________________________________________________________________________________________________\n",
      "up_sampling2d_6 (UpSampling2D)  (None, 128, 128, 32) 0           conv2d_50[0][0]                  \n",
      "__________________________________________________________________________________________________\n",
      "concatenate_6 (Concatenate)     (None, 128, 128, 48) 0           up_sampling2d_6[0][0]            \n",
      "                                                                 conv2d_44[0][0]                  \n",
      "__________________________________________________________________________________________________\n",
      "conv2d_51 (Conv2D)              (None, 128, 128, 16) 6928        concatenate_6[0][0]              \n",
      "__________________________________________________________________________________________________\n",
      "conv2d_52 (Conv2D)              (None, 128, 128, 16) 2320        conv2d_51[0][0]                  \n",
      "__________________________________________________________________________________________________\n",
      "up_sampling2d_7 (UpSampling2D)  (None, 256, 256, 16) 0           conv2d_52[0][0]                  \n",
      "__________________________________________________________________________________________________\n",
      "concatenate_7 (Concatenate)     (None, 256, 256, 24) 0           up_sampling2d_7[0][0]            \n",
      "                                                                 conv2d_42[0][0]                  \n",
      "__________________________________________________________________________________________________\n",
      "conv2d_53 (Conv2D)              (None, 256, 256, 8)  1736        concatenate_7[0][0]              \n",
      "__________________________________________________________________________________________________\n",
      "conv2d_54 (Conv2D)              (None, 256, 256, 8)  584         conv2d_53[0][0]                  \n",
      "__________________________________________________________________________________________________\n",
      "up_sampling2d_8 (UpSampling2D)  (None, 512, 512, 8)  0           conv2d_54[0][0]                  \n",
      "__________________________________________________________________________________________________\n",
      "concatenate_8 (Concatenate)     (None, 512, 512, 12) 0           up_sampling2d_8[0][0]            \n",
      "                                                                 conv2d_40[0][0]                  \n",
      "__________________________________________________________________________________________________\n",
      "conv2d_55 (Conv2D)              (None, 512, 512, 4)  436         concatenate_8[0][0]              \n",
      "__________________________________________________________________________________________________\n",
      "conv2d_56 (Conv2D)              (None, 512, 512, 4)  148         conv2d_55[0][0]                  \n",
      "__________________________________________________________________________________________________\n",
      "conv2d_57 (Conv2D)              (None, 512, 512, 1)  5           conv2d_56[0][0]                  \n",
      "__________________________________________________________________________________________________\n",
      "conv2d_58 (Conv2D)              (None, 512, 512, 4)  40          conv2d_57[0][0]                  \n",
      "__________________________________________________________________________________________________\n",
      "conv2d_59 (Conv2D)              (None, 512, 512, 4)  148         conv2d_58[0][0]                  \n",
      "__________________________________________________________________________________________________\n",
      "max_pooling2d_18 (MaxPooling2D) (None, 256, 256, 4)  0           conv2d_59[0][0]                  \n",
      "__________________________________________________________________________________________________\n",
      "conv2d_60 (Conv2D)              (None, 256, 256, 8)  296         max_pooling2d_18[0][0]           \n",
      "__________________________________________________________________________________________________\n",
      "conv2d_61 (Conv2D)              (None, 256, 256, 8)  584         conv2d_60[0][0]                  \n",
      "__________________________________________________________________________________________________\n",
      "max_pooling2d_19 (MaxPooling2D) (None, 128, 128, 8)  0           conv2d_61[0][0]                  \n",
      "__________________________________________________________________________________________________\n",
      "conv2d_62 (Conv2D)              (None, 128, 128, 16) 1168        max_pooling2d_19[0][0]           \n",
      "__________________________________________________________________________________________________\n",
      "conv2d_63 (Conv2D)              (None, 128, 128, 16) 2320        conv2d_62[0][0]                  \n",
      "__________________________________________________________________________________________________\n",
      "max_pooling2d_20 (MaxPooling2D) (None, 64, 64, 16)   0           conv2d_63[0][0]                  \n",
      "__________________________________________________________________________________________________\n",
      "conv2d_64 (Conv2D)              (None, 64, 64, 32)   4640        max_pooling2d_20[0][0]           \n",
      "__________________________________________________________________________________________________\n",
      "conv2d_65 (Conv2D)              (None, 64, 64, 32)   9248        conv2d_64[0][0]                  \n",
      "__________________________________________________________________________________________________\n",
      "max_pooling2d_21 (MaxPooling2D) (None, 32, 32, 32)   0           conv2d_65[0][0]                  \n",
      "__________________________________________________________________________________________________\n",
      "conv2d_66 (Conv2D)              (None, 32, 32, 64)   18496       max_pooling2d_21[0][0]           \n",
      "__________________________________________________________________________________________________\n",
      "conv2d_67 (Conv2D)              (None, 32, 32, 64)   36928       conv2d_66[0][0]                  \n",
      "__________________________________________________________________________________________________\n",
      "max_pooling2d_22 (MaxPooling2D) (None, 16, 16, 64)   0           conv2d_67[0][0]                  \n",
      "__________________________________________________________________________________________________\n",
      "conv2d_68 (Conv2D)              (None, 16, 16, 64)   36928       max_pooling2d_22[0][0]           \n",
      "__________________________________________________________________________________________________\n",
      "conv2d_69 (Conv2D)              (None, 16, 16, 64)   36928       conv2d_68[0][0]                  \n",
      "__________________________________________________________________________________________________\n",
      "max_pooling2d_23 (MaxPooling2D) (None, 8, 8, 64)     0           conv2d_69[0][0]                  \n",
      "__________________________________________________________________________________________________\n",
      "conv2d_70 (Conv2D)              (None, 8, 8, 64)     36928       max_pooling2d_23[0][0]           \n",
      "__________________________________________________________________________________________________\n",
      "conv2d_71 (Conv2D)              (None, 8, 8, 64)     36928       conv2d_70[0][0]                  \n",
      "__________________________________________________________________________________________________\n",
      "max_pooling2d_24 (MaxPooling2D) (None, 4, 4, 64)     0           conv2d_71[0][0]                  \n",
      "__________________________________________________________________________________________________\n",
      "conv2d_72 (Conv2D)              (None, 4, 4, 64)     36928       max_pooling2d_24[0][0]           \n",
      "__________________________________________________________________________________________________\n",
      "conv2d_73 (Conv2D)              (None, 4, 4, 64)     36928       conv2d_72[0][0]                  \n",
      "__________________________________________________________________________________________________\n",
      "max_pooling2d_25 (MaxPooling2D) (None, 2, 2, 64)     0           conv2d_73[0][0]                  \n",
      "__________________________________________________________________________________________________\n",
      "conv2d_74 (Conv2D)              (None, 2, 2, 32)     18464       max_pooling2d_25[0][0]           \n",
      "__________________________________________________________________________________________________\n",
      "conv2d_75 (Conv2D)              (None, 2, 2, 32)     9248        conv2d_74[0][0]                  \n",
      "__________________________________________________________________________________________________\n",
      "max_pooling2d_26 (MaxPooling2D) (None, 1, 1, 32)     0           conv2d_75[0][0]                  \n",
      "__________________________________________________________________________________________________\n",
      "conv2d_76 (Conv2D)              (None, 1, 1, 6)      198         max_pooling2d_26[0][0]           \n",
      "==================================================================================================\n",
      "Total params: 446,299\n",
      "Trainable params: 446,299\n",
      "Non-trainable params: 0\n",
      "__________________________________________________________________________________________________\n"
     ]
    }
   ],
   "source": [
    "model = build_model_1()\n",
    "model.summary()"
   ]
  },
  {
   "cell_type": "code",
   "execution_count": 24,
   "metadata": {},
   "outputs": [],
   "source": [
    "model.compile (optimizer='Adam', loss = 'categorical_crossentropy')"
   ]
  },
  {
   "cell_type": "code",
   "execution_count": null,
   "metadata": {},
   "outputs": [
    {
     "name": "stdout",
     "output_type": "stream",
     "text": [
      "Train on 1617 samples, validate on 405 samples\n",
      "Epoch 1/100\n",
      "1617/1617 [==============================] - 3098s 2s/step - loss: 1.6698 - val_loss: 1.6784\n",
      "Epoch 2/100\n",
      "1616/1617 [============================>.] - ETA: 1s - loss: 1.6578"
     ]
    }
   ],
   "source": [
    "model.fit(x=train_x, y=train_y, batch_size=8, epochs=100, verbose=1, validation_split=0.2,  shuffle=True)"
   ]
  },
  {
   "cell_type": "code",
   "execution_count": null,
   "metadata": {},
   "outputs": [],
   "source": [
    "\n",
    "    "
   ]
  },
  {
   "cell_type": "markdown",
   "metadata": {},
   "source": [
    "with open('train_data.pickle', 'wb') as f:\n",
    "    pickle.dump(train_data, f)"
   ]
  },
  {
   "cell_type": "markdown",
   "metadata": {},
   "source": [
    "with open('train_data.pickle', 'rb') as f:\n",
    "    train_data = pickle.load(f)\n",
    "\n",
    "print (train_data.shape)    \n"
   ]
  },
  {
   "cell_type": "code",
   "execution_count": null,
   "metadata": {},
   "outputs": [],
   "source": []
  },
  {
   "cell_type": "code",
   "execution_count": null,
   "metadata": {},
   "outputs": [],
   "source": []
  }
 ],
 "metadata": {
  "kernelspec": {
   "display_name": "Python [default]",
   "language": "python",
   "name": "python3"
  },
  "language_info": {
   "codemirror_mode": {
    "name": "ipython",
    "version": 3
   },
   "file_extension": ".py",
   "mimetype": "text/x-python",
   "name": "python",
   "nbconvert_exporter": "python",
   "pygments_lexer": "ipython3",
   "version": "3.6.6"
  }
 },
 "nbformat": 4,
 "nbformat_minor": 2
}
